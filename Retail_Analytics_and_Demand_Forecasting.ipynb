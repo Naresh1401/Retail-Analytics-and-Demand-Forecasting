{
  "nbformat": 4,
  "nbformat_minor": 0,
  "metadata": {
    "colab": {
      "provenance": []
    },
    "kernelspec": {
      "name": "python3",
      "display_name": "Python 3"
    },
    "language_info": {
      "name": "python"
    },
    "widgets": {
      "application/vnd.jupyter.widget-state+json": {
        "5572d00eb7e1446b924abe5d820ea39a": {
          "model_module": "@jupyter-widgets/controls",
          "model_name": "HBoxModel",
          "model_module_version": "1.5.0",
          "state": {
            "_dom_classes": [],
            "_model_module": "@jupyter-widgets/controls",
            "_model_module_version": "1.5.0",
            "_model_name": "HBoxModel",
            "_view_count": null,
            "_view_module": "@jupyter-widgets/controls",
            "_view_module_version": "1.5.0",
            "_view_name": "HBoxView",
            "box_style": "",
            "children": [
              "IPY_MODEL_90985573ea22451da90af889c11d18d1",
              "IPY_MODEL_64647ae78c04403fa541f1fc1d83ab3f",
              "IPY_MODEL_d5ace42d72d949d088f68d046502646a"
            ],
            "layout": "IPY_MODEL_a948471af19349969880cd9aa1ea1c5b"
          }
        },
        "90985573ea22451da90af889c11d18d1": {
          "model_module": "@jupyter-widgets/controls",
          "model_name": "HTMLModel",
          "model_module_version": "1.5.0",
          "state": {
            "_dom_classes": [],
            "_model_module": "@jupyter-widgets/controls",
            "_model_module_version": "1.5.0",
            "_model_name": "HTMLModel",
            "_view_count": null,
            "_view_module": "@jupyter-widgets/controls",
            "_view_module_version": "1.5.0",
            "_view_name": "HTMLView",
            "description": "",
            "description_tooltip": null,
            "layout": "IPY_MODEL_bd2696142aae47cf972ecce15ac991b6",
            "placeholder": "​",
            "style": "IPY_MODEL_ac8591888d2c461ea49615326a55b38a",
            "value": "100%"
          }
        },
        "64647ae78c04403fa541f1fc1d83ab3f": {
          "model_module": "@jupyter-widgets/controls",
          "model_name": "FloatProgressModel",
          "model_module_version": "1.5.0",
          "state": {
            "_dom_classes": [],
            "_model_module": "@jupyter-widgets/controls",
            "_model_module_version": "1.5.0",
            "_model_name": "FloatProgressModel",
            "_view_count": null,
            "_view_module": "@jupyter-widgets/controls",
            "_view_module_version": "1.5.0",
            "_view_name": "ProgressView",
            "bar_style": "success",
            "description": "",
            "description_tooltip": null,
            "layout": "IPY_MODEL_b98cc63a244d4d40881fbe158b0e6507",
            "max": 1,
            "min": 0,
            "orientation": "horizontal",
            "style": "IPY_MODEL_e9e8dbb83ee04e78aade4f8b7c6db6e0",
            "value": 1
          }
        },
        "d5ace42d72d949d088f68d046502646a": {
          "model_module": "@jupyter-widgets/controls",
          "model_name": "HTMLModel",
          "model_module_version": "1.5.0",
          "state": {
            "_dom_classes": [],
            "_model_module": "@jupyter-widgets/controls",
            "_model_module_version": "1.5.0",
            "_model_name": "HTMLModel",
            "_view_count": null,
            "_view_module": "@jupyter-widgets/controls",
            "_view_module_version": "1.5.0",
            "_view_name": "HTMLView",
            "description": "",
            "description_tooltip": null,
            "layout": "IPY_MODEL_776235d43e8a44f08ef71ecdf74aaa1a",
            "placeholder": "​",
            "style": "IPY_MODEL_6ab5bbaa86844ed4ba8aaff2adc797e6",
            "value": " 1/1 [00:07&lt;00:00,  7.13s/it]"
          }
        },
        "a948471af19349969880cd9aa1ea1c5b": {
          "model_module": "@jupyter-widgets/base",
          "model_name": "LayoutModel",
          "model_module_version": "1.2.0",
          "state": {
            "_model_module": "@jupyter-widgets/base",
            "_model_module_version": "1.2.0",
            "_model_name": "LayoutModel",
            "_view_count": null,
            "_view_module": "@jupyter-widgets/base",
            "_view_module_version": "1.2.0",
            "_view_name": "LayoutView",
            "align_content": null,
            "align_items": null,
            "align_self": null,
            "border": null,
            "bottom": null,
            "display": null,
            "flex": null,
            "flex_flow": null,
            "grid_area": null,
            "grid_auto_columns": null,
            "grid_auto_flow": null,
            "grid_auto_rows": null,
            "grid_column": null,
            "grid_gap": null,
            "grid_row": null,
            "grid_template_areas": null,
            "grid_template_columns": null,
            "grid_template_rows": null,
            "height": null,
            "justify_content": null,
            "justify_items": null,
            "left": null,
            "margin": null,
            "max_height": null,
            "max_width": null,
            "min_height": null,
            "min_width": null,
            "object_fit": null,
            "object_position": null,
            "order": null,
            "overflow": null,
            "overflow_x": null,
            "overflow_y": null,
            "padding": null,
            "right": null,
            "top": null,
            "visibility": null,
            "width": null
          }
        },
        "bd2696142aae47cf972ecce15ac991b6": {
          "model_module": "@jupyter-widgets/base",
          "model_name": "LayoutModel",
          "model_module_version": "1.2.0",
          "state": {
            "_model_module": "@jupyter-widgets/base",
            "_model_module_version": "1.2.0",
            "_model_name": "LayoutModel",
            "_view_count": null,
            "_view_module": "@jupyter-widgets/base",
            "_view_module_version": "1.2.0",
            "_view_name": "LayoutView",
            "align_content": null,
            "align_items": null,
            "align_self": null,
            "border": null,
            "bottom": null,
            "display": null,
            "flex": null,
            "flex_flow": null,
            "grid_area": null,
            "grid_auto_columns": null,
            "grid_auto_flow": null,
            "grid_auto_rows": null,
            "grid_column": null,
            "grid_gap": null,
            "grid_row": null,
            "grid_template_areas": null,
            "grid_template_columns": null,
            "grid_template_rows": null,
            "height": null,
            "justify_content": null,
            "justify_items": null,
            "left": null,
            "margin": null,
            "max_height": null,
            "max_width": null,
            "min_height": null,
            "min_width": null,
            "object_fit": null,
            "object_position": null,
            "order": null,
            "overflow": null,
            "overflow_x": null,
            "overflow_y": null,
            "padding": null,
            "right": null,
            "top": null,
            "visibility": null,
            "width": null
          }
        },
        "ac8591888d2c461ea49615326a55b38a": {
          "model_module": "@jupyter-widgets/controls",
          "model_name": "DescriptionStyleModel",
          "model_module_version": "1.5.0",
          "state": {
            "_model_module": "@jupyter-widgets/controls",
            "_model_module_version": "1.5.0",
            "_model_name": "DescriptionStyleModel",
            "_view_count": null,
            "_view_module": "@jupyter-widgets/base",
            "_view_module_version": "1.2.0",
            "_view_name": "StyleView",
            "description_width": ""
          }
        },
        "b98cc63a244d4d40881fbe158b0e6507": {
          "model_module": "@jupyter-widgets/base",
          "model_name": "LayoutModel",
          "model_module_version": "1.2.0",
          "state": {
            "_model_module": "@jupyter-widgets/base",
            "_model_module_version": "1.2.0",
            "_model_name": "LayoutModel",
            "_view_count": null,
            "_view_module": "@jupyter-widgets/base",
            "_view_module_version": "1.2.0",
            "_view_name": "LayoutView",
            "align_content": null,
            "align_items": null,
            "align_self": null,
            "border": null,
            "bottom": null,
            "display": null,
            "flex": null,
            "flex_flow": null,
            "grid_area": null,
            "grid_auto_columns": null,
            "grid_auto_flow": null,
            "grid_auto_rows": null,
            "grid_column": null,
            "grid_gap": null,
            "grid_row": null,
            "grid_template_areas": null,
            "grid_template_columns": null,
            "grid_template_rows": null,
            "height": null,
            "justify_content": null,
            "justify_items": null,
            "left": null,
            "margin": null,
            "max_height": null,
            "max_width": null,
            "min_height": null,
            "min_width": null,
            "object_fit": null,
            "object_position": null,
            "order": null,
            "overflow": null,
            "overflow_x": null,
            "overflow_y": null,
            "padding": null,
            "right": null,
            "top": null,
            "visibility": null,
            "width": null
          }
        },
        "e9e8dbb83ee04e78aade4f8b7c6db6e0": {
          "model_module": "@jupyter-widgets/controls",
          "model_name": "ProgressStyleModel",
          "model_module_version": "1.5.0",
          "state": {
            "_model_module": "@jupyter-widgets/controls",
            "_model_module_version": "1.5.0",
            "_model_name": "ProgressStyleModel",
            "_view_count": null,
            "_view_module": "@jupyter-widgets/base",
            "_view_module_version": "1.2.0",
            "_view_name": "StyleView",
            "bar_color": null,
            "description_width": ""
          }
        },
        "776235d43e8a44f08ef71ecdf74aaa1a": {
          "model_module": "@jupyter-widgets/base",
          "model_name": "LayoutModel",
          "model_module_version": "1.2.0",
          "state": {
            "_model_module": "@jupyter-widgets/base",
            "_model_module_version": "1.2.0",
            "_model_name": "LayoutModel",
            "_view_count": null,
            "_view_module": "@jupyter-widgets/base",
            "_view_module_version": "1.2.0",
            "_view_name": "LayoutView",
            "align_content": null,
            "align_items": null,
            "align_self": null,
            "border": null,
            "bottom": null,
            "display": null,
            "flex": null,
            "flex_flow": null,
            "grid_area": null,
            "grid_auto_columns": null,
            "grid_auto_flow": null,
            "grid_auto_rows": null,
            "grid_column": null,
            "grid_gap": null,
            "grid_row": null,
            "grid_template_areas": null,
            "grid_template_columns": null,
            "grid_template_rows": null,
            "height": null,
            "justify_content": null,
            "justify_items": null,
            "left": null,
            "margin": null,
            "max_height": null,
            "max_width": null,
            "min_height": null,
            "min_width": null,
            "object_fit": null,
            "object_position": null,
            "order": null,
            "overflow": null,
            "overflow_x": null,
            "overflow_y": null,
            "padding": null,
            "right": null,
            "top": null,
            "visibility": null,
            "width": null
          }
        },
        "6ab5bbaa86844ed4ba8aaff2adc797e6": {
          "model_module": "@jupyter-widgets/controls",
          "model_name": "DescriptionStyleModel",
          "model_module_version": "1.5.0",
          "state": {
            "_model_module": "@jupyter-widgets/controls",
            "_model_module_version": "1.5.0",
            "_model_name": "DescriptionStyleModel",
            "_view_count": null,
            "_view_module": "@jupyter-widgets/base",
            "_view_module_version": "1.2.0",
            "_view_name": "StyleView",
            "description_width": ""
          }
        }
      }
    }
  },
  "cells": [
    {
      "cell_type": "markdown",
      "source": [
        "Overview:\n",
        "\n",
        "Anticipating what consumers will want and how much of it they will want is a difficult task in the field of supply chain management. Experts have historically estimated future demand using basic statistics and their intuition, particularly for smaller product categories with predictable demand trends."
      ],
      "metadata": {
        "id": "svfvlvakeVQo"
      }
    },
    {
      "cell_type": "markdown",
      "source": [
        "Using data from 2015 to 2018, we will utilize Python in this project to create a model that forecasts the amount of our best-selling product that consumers will purchase over the following two years. However, there isn't a lot of information about 2018 in the data. Therefore, we will only take into account data up to 2017 and forecast for 2018 and 2019. The optimal inventory levels for that product, including when to place a new order and how much safety stock we require, will then be determined using this prediction."
      ],
      "metadata": {
        "id": "KJv3KN4JeT7q"
      }
    },
    {
      "cell_type": "markdown",
      "source": [
        "Two important business questions will be addressed during this project:\n",
        "\n",
        "1. What is the demand forecast for the\n",
        "top-selling product in the next 24 months?\n",
        "2. What is the product's ideal inventory level?"
      ],
      "metadata": {
        "id": "cdTYqfPygdJ9"
      }
    },
    {
      "cell_type": "markdown",
      "source": [
        "Importing Required Libraries"
      ],
      "metadata": {
        "id": "ZDK0LLNXg48m"
      }
    },
    {
      "cell_type": "code",
      "source": [
        "import pandas as pd\n",
        "import numpy as np\n",
        "import math\n",
        "from sklearn.preprocessing import LabelEncoder\n",
        "from prophet import Prophet\n",
        "\n",
        "import seaborn as sns\n",
        "import matplotlib.pyplot as plt"
      ],
      "metadata": {
        "id": "mdSkRNQ5fA_f"
      },
      "execution_count": 153,
      "outputs": []
    },
    {
      "cell_type": "markdown",
      "source": [
        "EDA"
      ],
      "metadata": {
        "id": "wPMye00ig4AL"
      }
    },
    {
      "cell_type": "code",
      "source": [
        "df = pd.read_csv(\"dataset.csv\", encoding=\"ISO-8859-1\")\n",
        "df.head(5)"
      ],
      "metadata": {
        "colab": {
          "base_uri": "https://localhost:8080/",
          "height": 377
        },
        "id": "dL0rsT6ug1yh",
        "outputId": "cd7e8384-fd5f-43a7-a9a1-93b190834c0e"
      },
      "execution_count": 154,
      "outputs": [
        {
          "output_type": "execute_result",
          "data": {
            "text/plain": [
              "       Type  Days for shipping (real)  Days for shipment (scheduled)  \\\n",
              "0     DEBIT                         3                              4   \n",
              "1  TRANSFER                         5                              4   \n",
              "2      CASH                         4                              4   \n",
              "3     DEBIT                         3                              4   \n",
              "4   PAYMENT                         2                              4   \n",
              "\n",
              "   Benefit per order  Sales per customer   Delivery Status  \\\n",
              "0          91.250000          314.640015  Advance shipping   \n",
              "1        -249.089996          311.359985     Late delivery   \n",
              "2        -247.779999          309.720001  Shipping on time   \n",
              "3          22.860001          304.809998  Advance shipping   \n",
              "4         134.210007          298.250000  Advance shipping   \n",
              "\n",
              "   Late_delivery_risk  Category Id   Category Name Customer City  ...  \\\n",
              "0                   0           73  Sporting Goods        Caguas  ...   \n",
              "1                   1           73  Sporting Goods        Caguas  ...   \n",
              "2                   0           73  Sporting Goods      San Jose  ...   \n",
              "3                   0           73  Sporting Goods   Los Angeles  ...   \n",
              "4                   0           73  Sporting Goods        Caguas  ...   \n",
              "\n",
              "  Order Zipcode Product Card Id Product Category Id  Product Description  \\\n",
              "0           NaN            1360                  73                  NaN   \n",
              "1           NaN            1360                  73                  NaN   \n",
              "2           NaN            1360                  73                  NaN   \n",
              "3           NaN            1360                  73                  NaN   \n",
              "4           NaN            1360                  73                  NaN   \n",
              "\n",
              "                                  Product Image  Product Name Product Price  \\\n",
              "0  http://images.acmesports.sports/Smart+watch   Smart watch         327.75   \n",
              "1  http://images.acmesports.sports/Smart+watch   Smart watch         327.75   \n",
              "2  http://images.acmesports.sports/Smart+watch   Smart watch         327.75   \n",
              "3  http://images.acmesports.sports/Smart+watch   Smart watch         327.75   \n",
              "4  http://images.acmesports.sports/Smart+watch   Smart watch         327.75   \n",
              "\n",
              "  Product Status shipping date (DateOrders)   Shipping Mode  \n",
              "0              0             2/3/2018 22:56  Standard Class  \n",
              "1              0            1/18/2018 12:27  Standard Class  \n",
              "2              0            1/17/2018 12:06  Standard Class  \n",
              "3              0            1/16/2018 11:45  Standard Class  \n",
              "4              0            1/15/2018 11:24  Standard Class  \n",
              "\n",
              "[5 rows x 53 columns]"
            ],
            "text/html": [
              "\n",
              "  <div id=\"df-5544c56b-cca2-4ef1-a6ad-21f480c29479\" class=\"colab-df-container\">\n",
              "    <div>\n",
              "<style scoped>\n",
              "    .dataframe tbody tr th:only-of-type {\n",
              "        vertical-align: middle;\n",
              "    }\n",
              "\n",
              "    .dataframe tbody tr th {\n",
              "        vertical-align: top;\n",
              "    }\n",
              "\n",
              "    .dataframe thead th {\n",
              "        text-align: right;\n",
              "    }\n",
              "</style>\n",
              "<table border=\"1\" class=\"dataframe\">\n",
              "  <thead>\n",
              "    <tr style=\"text-align: right;\">\n",
              "      <th></th>\n",
              "      <th>Type</th>\n",
              "      <th>Days for shipping (real)</th>\n",
              "      <th>Days for shipment (scheduled)</th>\n",
              "      <th>Benefit per order</th>\n",
              "      <th>Sales per customer</th>\n",
              "      <th>Delivery Status</th>\n",
              "      <th>Late_delivery_risk</th>\n",
              "      <th>Category Id</th>\n",
              "      <th>Category Name</th>\n",
              "      <th>Customer City</th>\n",
              "      <th>...</th>\n",
              "      <th>Order Zipcode</th>\n",
              "      <th>Product Card Id</th>\n",
              "      <th>Product Category Id</th>\n",
              "      <th>Product Description</th>\n",
              "      <th>Product Image</th>\n",
              "      <th>Product Name</th>\n",
              "      <th>Product Price</th>\n",
              "      <th>Product Status</th>\n",
              "      <th>shipping date (DateOrders)</th>\n",
              "      <th>Shipping Mode</th>\n",
              "    </tr>\n",
              "  </thead>\n",
              "  <tbody>\n",
              "    <tr>\n",
              "      <th>0</th>\n",
              "      <td>DEBIT</td>\n",
              "      <td>3</td>\n",
              "      <td>4</td>\n",
              "      <td>91.250000</td>\n",
              "      <td>314.640015</td>\n",
              "      <td>Advance shipping</td>\n",
              "      <td>0</td>\n",
              "      <td>73</td>\n",
              "      <td>Sporting Goods</td>\n",
              "      <td>Caguas</td>\n",
              "      <td>...</td>\n",
              "      <td>NaN</td>\n",
              "      <td>1360</td>\n",
              "      <td>73</td>\n",
              "      <td>NaN</td>\n",
              "      <td>http://images.acmesports.sports/Smart+watch</td>\n",
              "      <td>Smart watch</td>\n",
              "      <td>327.75</td>\n",
              "      <td>0</td>\n",
              "      <td>2/3/2018 22:56</td>\n",
              "      <td>Standard Class</td>\n",
              "    </tr>\n",
              "    <tr>\n",
              "      <th>1</th>\n",
              "      <td>TRANSFER</td>\n",
              "      <td>5</td>\n",
              "      <td>4</td>\n",
              "      <td>-249.089996</td>\n",
              "      <td>311.359985</td>\n",
              "      <td>Late delivery</td>\n",
              "      <td>1</td>\n",
              "      <td>73</td>\n",
              "      <td>Sporting Goods</td>\n",
              "      <td>Caguas</td>\n",
              "      <td>...</td>\n",
              "      <td>NaN</td>\n",
              "      <td>1360</td>\n",
              "      <td>73</td>\n",
              "      <td>NaN</td>\n",
              "      <td>http://images.acmesports.sports/Smart+watch</td>\n",
              "      <td>Smart watch</td>\n",
              "      <td>327.75</td>\n",
              "      <td>0</td>\n",
              "      <td>1/18/2018 12:27</td>\n",
              "      <td>Standard Class</td>\n",
              "    </tr>\n",
              "    <tr>\n",
              "      <th>2</th>\n",
              "      <td>CASH</td>\n",
              "      <td>4</td>\n",
              "      <td>4</td>\n",
              "      <td>-247.779999</td>\n",
              "      <td>309.720001</td>\n",
              "      <td>Shipping on time</td>\n",
              "      <td>0</td>\n",
              "      <td>73</td>\n",
              "      <td>Sporting Goods</td>\n",
              "      <td>San Jose</td>\n",
              "      <td>...</td>\n",
              "      <td>NaN</td>\n",
              "      <td>1360</td>\n",
              "      <td>73</td>\n",
              "      <td>NaN</td>\n",
              "      <td>http://images.acmesports.sports/Smart+watch</td>\n",
              "      <td>Smart watch</td>\n",
              "      <td>327.75</td>\n",
              "      <td>0</td>\n",
              "      <td>1/17/2018 12:06</td>\n",
              "      <td>Standard Class</td>\n",
              "    </tr>\n",
              "    <tr>\n",
              "      <th>3</th>\n",
              "      <td>DEBIT</td>\n",
              "      <td>3</td>\n",
              "      <td>4</td>\n",
              "      <td>22.860001</td>\n",
              "      <td>304.809998</td>\n",
              "      <td>Advance shipping</td>\n",
              "      <td>0</td>\n",
              "      <td>73</td>\n",
              "      <td>Sporting Goods</td>\n",
              "      <td>Los Angeles</td>\n",
              "      <td>...</td>\n",
              "      <td>NaN</td>\n",
              "      <td>1360</td>\n",
              "      <td>73</td>\n",
              "      <td>NaN</td>\n",
              "      <td>http://images.acmesports.sports/Smart+watch</td>\n",
              "      <td>Smart watch</td>\n",
              "      <td>327.75</td>\n",
              "      <td>0</td>\n",
              "      <td>1/16/2018 11:45</td>\n",
              "      <td>Standard Class</td>\n",
              "    </tr>\n",
              "    <tr>\n",
              "      <th>4</th>\n",
              "      <td>PAYMENT</td>\n",
              "      <td>2</td>\n",
              "      <td>4</td>\n",
              "      <td>134.210007</td>\n",
              "      <td>298.250000</td>\n",
              "      <td>Advance shipping</td>\n",
              "      <td>0</td>\n",
              "      <td>73</td>\n",
              "      <td>Sporting Goods</td>\n",
              "      <td>Caguas</td>\n",
              "      <td>...</td>\n",
              "      <td>NaN</td>\n",
              "      <td>1360</td>\n",
              "      <td>73</td>\n",
              "      <td>NaN</td>\n",
              "      <td>http://images.acmesports.sports/Smart+watch</td>\n",
              "      <td>Smart watch</td>\n",
              "      <td>327.75</td>\n",
              "      <td>0</td>\n",
              "      <td>1/15/2018 11:24</td>\n",
              "      <td>Standard Class</td>\n",
              "    </tr>\n",
              "  </tbody>\n",
              "</table>\n",
              "<p>5 rows × 53 columns</p>\n",
              "</div>\n",
              "    <div class=\"colab-df-buttons\">\n",
              "\n",
              "  <div class=\"colab-df-container\">\n",
              "    <button class=\"colab-df-convert\" onclick=\"convertToInteractive('df-5544c56b-cca2-4ef1-a6ad-21f480c29479')\"\n",
              "            title=\"Convert this dataframe to an interactive table.\"\n",
              "            style=\"display:none;\">\n",
              "\n",
              "  <svg xmlns=\"http://www.w3.org/2000/svg\" height=\"24px\" viewBox=\"0 -960 960 960\">\n",
              "    <path d=\"M120-120v-720h720v720H120Zm60-500h600v-160H180v160Zm220 220h160v-160H400v160Zm0 220h160v-160H400v160ZM180-400h160v-160H180v160Zm440 0h160v-160H620v160ZM180-180h160v-160H180v160Zm440 0h160v-160H620v160Z\"/>\n",
              "  </svg>\n",
              "    </button>\n",
              "\n",
              "  <style>\n",
              "    .colab-df-container {\n",
              "      display:flex;\n",
              "      gap: 12px;\n",
              "    }\n",
              "\n",
              "    .colab-df-convert {\n",
              "      background-color: #E8F0FE;\n",
              "      border: none;\n",
              "      border-radius: 50%;\n",
              "      cursor: pointer;\n",
              "      display: none;\n",
              "      fill: #1967D2;\n",
              "      height: 32px;\n",
              "      padding: 0 0 0 0;\n",
              "      width: 32px;\n",
              "    }\n",
              "\n",
              "    .colab-df-convert:hover {\n",
              "      background-color: #E2EBFA;\n",
              "      box-shadow: 0px 1px 2px rgba(60, 64, 67, 0.3), 0px 1px 3px 1px rgba(60, 64, 67, 0.15);\n",
              "      fill: #174EA6;\n",
              "    }\n",
              "\n",
              "    .colab-df-buttons div {\n",
              "      margin-bottom: 4px;\n",
              "    }\n",
              "\n",
              "    [theme=dark] .colab-df-convert {\n",
              "      background-color: #3B4455;\n",
              "      fill: #D2E3FC;\n",
              "    }\n",
              "\n",
              "    [theme=dark] .colab-df-convert:hover {\n",
              "      background-color: #434B5C;\n",
              "      box-shadow: 0px 1px 3px 1px rgba(0, 0, 0, 0.15);\n",
              "      filter: drop-shadow(0px 1px 2px rgba(0, 0, 0, 0.3));\n",
              "      fill: #FFFFFF;\n",
              "    }\n",
              "  </style>\n",
              "\n",
              "    <script>\n",
              "      const buttonEl =\n",
              "        document.querySelector('#df-5544c56b-cca2-4ef1-a6ad-21f480c29479 button.colab-df-convert');\n",
              "      buttonEl.style.display =\n",
              "        google.colab.kernel.accessAllowed ? 'block' : 'none';\n",
              "\n",
              "      async function convertToInteractive(key) {\n",
              "        const element = document.querySelector('#df-5544c56b-cca2-4ef1-a6ad-21f480c29479');\n",
              "        const dataTable =\n",
              "          await google.colab.kernel.invokeFunction('convertToInteractive',\n",
              "                                                    [key], {});\n",
              "        if (!dataTable) return;\n",
              "\n",
              "        const docLinkHtml = 'Like what you see? Visit the ' +\n",
              "          '<a target=\"_blank\" href=https://colab.research.google.com/notebooks/data_table.ipynb>data table notebook</a>'\n",
              "          + ' to learn more about interactive tables.';\n",
              "        element.innerHTML = '';\n",
              "        dataTable['output_type'] = 'display_data';\n",
              "        await google.colab.output.renderOutput(dataTable, element);\n",
              "        const docLink = document.createElement('div');\n",
              "        docLink.innerHTML = docLinkHtml;\n",
              "        element.appendChild(docLink);\n",
              "      }\n",
              "    </script>\n",
              "  </div>\n",
              "\n",
              "\n",
              "    <div id=\"df-c33623c1-b3ad-449e-8f8b-5fc167da0ceb\">\n",
              "      <button class=\"colab-df-quickchart\" onclick=\"quickchart('df-c33623c1-b3ad-449e-8f8b-5fc167da0ceb')\"\n",
              "                title=\"Suggest charts\"\n",
              "                style=\"display:none;\">\n",
              "\n",
              "<svg xmlns=\"http://www.w3.org/2000/svg\" height=\"24px\"viewBox=\"0 0 24 24\"\n",
              "     width=\"24px\">\n",
              "    <g>\n",
              "        <path d=\"M19 3H5c-1.1 0-2 .9-2 2v14c0 1.1.9 2 2 2h14c1.1 0 2-.9 2-2V5c0-1.1-.9-2-2-2zM9 17H7v-7h2v7zm4 0h-2V7h2v10zm4 0h-2v-4h2v4z\"/>\n",
              "    </g>\n",
              "</svg>\n",
              "      </button>\n",
              "\n",
              "<style>\n",
              "  .colab-df-quickchart {\n",
              "      --bg-color: #E8F0FE;\n",
              "      --fill-color: #1967D2;\n",
              "      --hover-bg-color: #E2EBFA;\n",
              "      --hover-fill-color: #174EA6;\n",
              "      --disabled-fill-color: #AAA;\n",
              "      --disabled-bg-color: #DDD;\n",
              "  }\n",
              "\n",
              "  [theme=dark] .colab-df-quickchart {\n",
              "      --bg-color: #3B4455;\n",
              "      --fill-color: #D2E3FC;\n",
              "      --hover-bg-color: #434B5C;\n",
              "      --hover-fill-color: #FFFFFF;\n",
              "      --disabled-bg-color: #3B4455;\n",
              "      --disabled-fill-color: #666;\n",
              "  }\n",
              "\n",
              "  .colab-df-quickchart {\n",
              "    background-color: var(--bg-color);\n",
              "    border: none;\n",
              "    border-radius: 50%;\n",
              "    cursor: pointer;\n",
              "    display: none;\n",
              "    fill: var(--fill-color);\n",
              "    height: 32px;\n",
              "    padding: 0;\n",
              "    width: 32px;\n",
              "  }\n",
              "\n",
              "  .colab-df-quickchart:hover {\n",
              "    background-color: var(--hover-bg-color);\n",
              "    box-shadow: 0 1px 2px rgba(60, 64, 67, 0.3), 0 1px 3px 1px rgba(60, 64, 67, 0.15);\n",
              "    fill: var(--button-hover-fill-color);\n",
              "  }\n",
              "\n",
              "  .colab-df-quickchart-complete:disabled,\n",
              "  .colab-df-quickchart-complete:disabled:hover {\n",
              "    background-color: var(--disabled-bg-color);\n",
              "    fill: var(--disabled-fill-color);\n",
              "    box-shadow: none;\n",
              "  }\n",
              "\n",
              "  .colab-df-spinner {\n",
              "    border: 2px solid var(--fill-color);\n",
              "    border-color: transparent;\n",
              "    border-bottom-color: var(--fill-color);\n",
              "    animation:\n",
              "      spin 1s steps(1) infinite;\n",
              "  }\n",
              "\n",
              "  @keyframes spin {\n",
              "    0% {\n",
              "      border-color: transparent;\n",
              "      border-bottom-color: var(--fill-color);\n",
              "      border-left-color: var(--fill-color);\n",
              "    }\n",
              "    20% {\n",
              "      border-color: transparent;\n",
              "      border-left-color: var(--fill-color);\n",
              "      border-top-color: var(--fill-color);\n",
              "    }\n",
              "    30% {\n",
              "      border-color: transparent;\n",
              "      border-left-color: var(--fill-color);\n",
              "      border-top-color: var(--fill-color);\n",
              "      border-right-color: var(--fill-color);\n",
              "    }\n",
              "    40% {\n",
              "      border-color: transparent;\n",
              "      border-right-color: var(--fill-color);\n",
              "      border-top-color: var(--fill-color);\n",
              "    }\n",
              "    60% {\n",
              "      border-color: transparent;\n",
              "      border-right-color: var(--fill-color);\n",
              "    }\n",
              "    80% {\n",
              "      border-color: transparent;\n",
              "      border-right-color: var(--fill-color);\n",
              "      border-bottom-color: var(--fill-color);\n",
              "    }\n",
              "    90% {\n",
              "      border-color: transparent;\n",
              "      border-bottom-color: var(--fill-color);\n",
              "    }\n",
              "  }\n",
              "</style>\n",
              "\n",
              "      <script>\n",
              "        async function quickchart(key) {\n",
              "          const quickchartButtonEl =\n",
              "            document.querySelector('#' + key + ' button');\n",
              "          quickchartButtonEl.disabled = true;  // To prevent multiple clicks.\n",
              "          quickchartButtonEl.classList.add('colab-df-spinner');\n",
              "          try {\n",
              "            const charts = await google.colab.kernel.invokeFunction(\n",
              "                'suggestCharts', [key], {});\n",
              "          } catch (error) {\n",
              "            console.error('Error during call to suggestCharts:', error);\n",
              "          }\n",
              "          quickchartButtonEl.classList.remove('colab-df-spinner');\n",
              "          quickchartButtonEl.classList.add('colab-df-quickchart-complete');\n",
              "        }\n",
              "        (() => {\n",
              "          let quickchartButtonEl =\n",
              "            document.querySelector('#df-c33623c1-b3ad-449e-8f8b-5fc167da0ceb button');\n",
              "          quickchartButtonEl.style.display =\n",
              "            google.colab.kernel.accessAllowed ? 'block' : 'none';\n",
              "        })();\n",
              "      </script>\n",
              "    </div>\n",
              "\n",
              "    </div>\n",
              "  </div>\n"
            ],
            "application/vnd.google.colaboratory.intrinsic+json": {
              "type": "dataframe",
              "variable_name": "df"
            }
          },
          "metadata": {},
          "execution_count": 154
        }
      ]
    },
    {
      "cell_type": "code",
      "source": [
        "df[\"order date (DateOrders)\"]= pd.to_datetime(df[\"order date (DateOrders)\"])\n",
        "df[\"shipping date (DateOrders)\"] = pd.to_datetime(df[\"shipping date (DateOrders)\"])"
      ],
      "metadata": {
        "id": "u6jAb0mPg139"
      },
      "execution_count": 155,
      "outputs": []
    },
    {
      "cell_type": "code",
      "source": [
        "df = df[df[\"shipping date (DateOrders)\"] < \"2018-01-01\"]\n",
        "df['shipping date (DateOrders)'].sort_values().tail(5)"
      ],
      "metadata": {
        "colab": {
          "base_uri": "https://localhost:8080/",
          "height": 241
        },
        "id": "j6xgF0_Gg16S",
        "outputId": "17e1ceec-6b89-497d-873c-8529be24c2e2"
      },
      "execution_count": 156,
      "outputs": [
        {
          "output_type": "execute_result",
          "data": {
            "text/plain": [
              "93846   2017-12-31 22:17:00\n",
              "20961   2017-12-31 22:38:00\n",
              "41414   2017-12-31 22:49:00\n",
              "28386   2017-12-31 23:52:00\n",
              "88336   2017-12-31 23:52:00\n",
              "Name: shipping date (DateOrders), dtype: datetime64[ns]"
            ],
            "text/html": [
              "<div>\n",
              "<style scoped>\n",
              "    .dataframe tbody tr th:only-of-type {\n",
              "        vertical-align: middle;\n",
              "    }\n",
              "\n",
              "    .dataframe tbody tr th {\n",
              "        vertical-align: top;\n",
              "    }\n",
              "\n",
              "    .dataframe thead th {\n",
              "        text-align: right;\n",
              "    }\n",
              "</style>\n",
              "<table border=\"1\" class=\"dataframe\">\n",
              "  <thead>\n",
              "    <tr style=\"text-align: right;\">\n",
              "      <th></th>\n",
              "      <th>shipping date (DateOrders)</th>\n",
              "    </tr>\n",
              "  </thead>\n",
              "  <tbody>\n",
              "    <tr>\n",
              "      <th>93846</th>\n",
              "      <td>2017-12-31 22:17:00</td>\n",
              "    </tr>\n",
              "    <tr>\n",
              "      <th>20961</th>\n",
              "      <td>2017-12-31 22:38:00</td>\n",
              "    </tr>\n",
              "    <tr>\n",
              "      <th>41414</th>\n",
              "      <td>2017-12-31 22:49:00</td>\n",
              "    </tr>\n",
              "    <tr>\n",
              "      <th>28386</th>\n",
              "      <td>2017-12-31 23:52:00</td>\n",
              "    </tr>\n",
              "    <tr>\n",
              "      <th>88336</th>\n",
              "      <td>2017-12-31 23:52:00</td>\n",
              "    </tr>\n",
              "  </tbody>\n",
              "</table>\n",
              "</div><br><label><b>dtype:</b> datetime64[ns]</label>"
            ]
          },
          "metadata": {},
          "execution_count": 156
        }
      ]
    },
    {
      "cell_type": "code",
      "source": [
        "df.describe()"
      ],
      "metadata": {
        "colab": {
          "base_uri": "https://localhost:8080/",
          "height": 488
        },
        "id": "JVQhoGoIivPG",
        "outputId": "1035b8c1-33d9-4bf9-ae4f-7ab439fac72b"
      },
      "execution_count": 157,
      "outputs": [
        {
          "output_type": "execute_result",
          "data": {
            "text/plain": [
              "       Days for shipping (real)  Days for shipment (scheduled)  \\\n",
              "count             178150.000000                  178150.000000   \n",
              "mean                   3.496441                       2.931709   \n",
              "min                    0.000000                       0.000000   \n",
              "25%                    2.000000                       2.000000   \n",
              "50%                    3.000000                       4.000000   \n",
              "75%                    5.000000                       4.000000   \n",
              "max                    6.000000                       4.000000   \n",
              "std                    1.623518                       1.374694   \n",
              "\n",
              "       Benefit per order  Sales per customer  Late_delivery_risk  \\\n",
              "count      178150.000000       178150.000000       178150.000000   \n",
              "mean           22.034384          183.466378            0.548033   \n",
              "min         -4274.979980            7.490000            0.000000   \n",
              "25%             7.200000          105.580002            0.000000   \n",
              "50%            31.730000          163.990005            1.000000   \n",
              "75%            64.889999          247.399994            1.000000   \n",
              "max           911.799988         1939.989990            1.000000   \n",
              "std           104.552859          119.800990            0.497689   \n",
              "\n",
              "         Category Id    Customer Id  Customer Zipcode  Department Id  \\\n",
              "count  178150.000000  178150.000000     178147.000000  178150.000000   \n",
              "mean       31.307814    6520.114286      35922.545353       5.419495   \n",
              "min         2.000000       1.000000        603.000000       2.000000   \n",
              "25%        18.000000    3217.000000        725.000000       4.000000   \n",
              "50%        29.000000    6375.000000      19380.000000       5.000000   \n",
              "75%        45.000000    9662.000000      78201.000000       7.000000   \n",
              "max        76.000000   18563.000000      99205.000000      12.000000   \n",
              "std        15.007266    3913.941020      37540.664232       1.590594   \n",
              "\n",
              "            Latitude  ...          Sales  Order Item Total  \\\n",
              "count  178150.000000  ...  178150.000000     178150.000000   \n",
              "mean       29.718439  ...     204.171248        183.466378   \n",
              "min       -33.937553  ...       9.990000          7.490000   \n",
              "25%        18.265411  ...     119.980003        105.580002   \n",
              "50%        33.144863  ...     199.919998        163.990005   \n",
              "75%        39.279617  ...     299.950012        247.399994   \n",
              "max        48.781933  ...    1999.989990       1939.989990   \n",
              "std         9.813081  ...     132.002670        119.800990   \n",
              "\n",
              "      Order Profit Per Order  Order Zipcode  Product Card Id  \\\n",
              "count          178150.000000   24840.000000    178150.000000   \n",
              "mean               22.034384   55426.132327       683.637171   \n",
              "min             -4274.979980    1040.000000        19.000000   \n",
              "25%                 7.200000   23464.000000       403.000000   \n",
              "50%                31.730000   59405.000000       627.000000   \n",
              "75%                64.889999   90008.000000      1004.000000   \n",
              "max               911.799988   99301.000000      1363.000000   \n",
              "std               104.552859   31919.279101       329.701138   \n",
              "\n",
              "       Product Category Id  Product Description  Product Price  \\\n",
              "count        178150.000000                  0.0  178150.000000   \n",
              "mean             31.307814                  NaN     140.800064   \n",
              "min               2.000000                  NaN       9.990000   \n",
              "25%              18.000000                  NaN      50.000000   \n",
              "50%              29.000000                  NaN      59.990002   \n",
              "75%              45.000000                  NaN     199.990005   \n",
              "max              76.000000                  NaN    1999.989990   \n",
              "std              15.007266                  NaN     139.565670   \n",
              "\n",
              "       Product Status     shipping date (DateOrders)  \n",
              "count        178150.0                         178150  \n",
              "mean              0.0  2016-06-08 12:19:35.296772608  \n",
              "min               0.0            2015-01-03 00:00:00  \n",
              "25%               0.0            2015-09-21 22:13:00  \n",
              "50%               0.0            2016-06-08 04:52:00  \n",
              "75%               0.0            2017-02-23 00:52:30  \n",
              "max               0.0            2017-12-31 23:52:00  \n",
              "std               0.0                            NaN  \n",
              "\n",
              "[8 rows x 31 columns]"
            ],
            "text/html": [
              "\n",
              "  <div id=\"df-f5d773eb-bcde-4c1b-a4ad-cfaa7276710d\" class=\"colab-df-container\">\n",
              "    <div>\n",
              "<style scoped>\n",
              "    .dataframe tbody tr th:only-of-type {\n",
              "        vertical-align: middle;\n",
              "    }\n",
              "\n",
              "    .dataframe tbody tr th {\n",
              "        vertical-align: top;\n",
              "    }\n",
              "\n",
              "    .dataframe thead th {\n",
              "        text-align: right;\n",
              "    }\n",
              "</style>\n",
              "<table border=\"1\" class=\"dataframe\">\n",
              "  <thead>\n",
              "    <tr style=\"text-align: right;\">\n",
              "      <th></th>\n",
              "      <th>Days for shipping (real)</th>\n",
              "      <th>Days for shipment (scheduled)</th>\n",
              "      <th>Benefit per order</th>\n",
              "      <th>Sales per customer</th>\n",
              "      <th>Late_delivery_risk</th>\n",
              "      <th>Category Id</th>\n",
              "      <th>Customer Id</th>\n",
              "      <th>Customer Zipcode</th>\n",
              "      <th>Department Id</th>\n",
              "      <th>Latitude</th>\n",
              "      <th>...</th>\n",
              "      <th>Sales</th>\n",
              "      <th>Order Item Total</th>\n",
              "      <th>Order Profit Per Order</th>\n",
              "      <th>Order Zipcode</th>\n",
              "      <th>Product Card Id</th>\n",
              "      <th>Product Category Id</th>\n",
              "      <th>Product Description</th>\n",
              "      <th>Product Price</th>\n",
              "      <th>Product Status</th>\n",
              "      <th>shipping date (DateOrders)</th>\n",
              "    </tr>\n",
              "  </thead>\n",
              "  <tbody>\n",
              "    <tr>\n",
              "      <th>count</th>\n",
              "      <td>178150.000000</td>\n",
              "      <td>178150.000000</td>\n",
              "      <td>178150.000000</td>\n",
              "      <td>178150.000000</td>\n",
              "      <td>178150.000000</td>\n",
              "      <td>178150.000000</td>\n",
              "      <td>178150.000000</td>\n",
              "      <td>178147.000000</td>\n",
              "      <td>178150.000000</td>\n",
              "      <td>178150.000000</td>\n",
              "      <td>...</td>\n",
              "      <td>178150.000000</td>\n",
              "      <td>178150.000000</td>\n",
              "      <td>178150.000000</td>\n",
              "      <td>24840.000000</td>\n",
              "      <td>178150.000000</td>\n",
              "      <td>178150.000000</td>\n",
              "      <td>0.0</td>\n",
              "      <td>178150.000000</td>\n",
              "      <td>178150.0</td>\n",
              "      <td>178150</td>\n",
              "    </tr>\n",
              "    <tr>\n",
              "      <th>mean</th>\n",
              "      <td>3.496441</td>\n",
              "      <td>2.931709</td>\n",
              "      <td>22.034384</td>\n",
              "      <td>183.466378</td>\n",
              "      <td>0.548033</td>\n",
              "      <td>31.307814</td>\n",
              "      <td>6520.114286</td>\n",
              "      <td>35922.545353</td>\n",
              "      <td>5.419495</td>\n",
              "      <td>29.718439</td>\n",
              "      <td>...</td>\n",
              "      <td>204.171248</td>\n",
              "      <td>183.466378</td>\n",
              "      <td>22.034384</td>\n",
              "      <td>55426.132327</td>\n",
              "      <td>683.637171</td>\n",
              "      <td>31.307814</td>\n",
              "      <td>NaN</td>\n",
              "      <td>140.800064</td>\n",
              "      <td>0.0</td>\n",
              "      <td>2016-06-08 12:19:35.296772608</td>\n",
              "    </tr>\n",
              "    <tr>\n",
              "      <th>min</th>\n",
              "      <td>0.000000</td>\n",
              "      <td>0.000000</td>\n",
              "      <td>-4274.979980</td>\n",
              "      <td>7.490000</td>\n",
              "      <td>0.000000</td>\n",
              "      <td>2.000000</td>\n",
              "      <td>1.000000</td>\n",
              "      <td>603.000000</td>\n",
              "      <td>2.000000</td>\n",
              "      <td>-33.937553</td>\n",
              "      <td>...</td>\n",
              "      <td>9.990000</td>\n",
              "      <td>7.490000</td>\n",
              "      <td>-4274.979980</td>\n",
              "      <td>1040.000000</td>\n",
              "      <td>19.000000</td>\n",
              "      <td>2.000000</td>\n",
              "      <td>NaN</td>\n",
              "      <td>9.990000</td>\n",
              "      <td>0.0</td>\n",
              "      <td>2015-01-03 00:00:00</td>\n",
              "    </tr>\n",
              "    <tr>\n",
              "      <th>25%</th>\n",
              "      <td>2.000000</td>\n",
              "      <td>2.000000</td>\n",
              "      <td>7.200000</td>\n",
              "      <td>105.580002</td>\n",
              "      <td>0.000000</td>\n",
              "      <td>18.000000</td>\n",
              "      <td>3217.000000</td>\n",
              "      <td>725.000000</td>\n",
              "      <td>4.000000</td>\n",
              "      <td>18.265411</td>\n",
              "      <td>...</td>\n",
              "      <td>119.980003</td>\n",
              "      <td>105.580002</td>\n",
              "      <td>7.200000</td>\n",
              "      <td>23464.000000</td>\n",
              "      <td>403.000000</td>\n",
              "      <td>18.000000</td>\n",
              "      <td>NaN</td>\n",
              "      <td>50.000000</td>\n",
              "      <td>0.0</td>\n",
              "      <td>2015-09-21 22:13:00</td>\n",
              "    </tr>\n",
              "    <tr>\n",
              "      <th>50%</th>\n",
              "      <td>3.000000</td>\n",
              "      <td>4.000000</td>\n",
              "      <td>31.730000</td>\n",
              "      <td>163.990005</td>\n",
              "      <td>1.000000</td>\n",
              "      <td>29.000000</td>\n",
              "      <td>6375.000000</td>\n",
              "      <td>19380.000000</td>\n",
              "      <td>5.000000</td>\n",
              "      <td>33.144863</td>\n",
              "      <td>...</td>\n",
              "      <td>199.919998</td>\n",
              "      <td>163.990005</td>\n",
              "      <td>31.730000</td>\n",
              "      <td>59405.000000</td>\n",
              "      <td>627.000000</td>\n",
              "      <td>29.000000</td>\n",
              "      <td>NaN</td>\n",
              "      <td>59.990002</td>\n",
              "      <td>0.0</td>\n",
              "      <td>2016-06-08 04:52:00</td>\n",
              "    </tr>\n",
              "    <tr>\n",
              "      <th>75%</th>\n",
              "      <td>5.000000</td>\n",
              "      <td>4.000000</td>\n",
              "      <td>64.889999</td>\n",
              "      <td>247.399994</td>\n",
              "      <td>1.000000</td>\n",
              "      <td>45.000000</td>\n",
              "      <td>9662.000000</td>\n",
              "      <td>78201.000000</td>\n",
              "      <td>7.000000</td>\n",
              "      <td>39.279617</td>\n",
              "      <td>...</td>\n",
              "      <td>299.950012</td>\n",
              "      <td>247.399994</td>\n",
              "      <td>64.889999</td>\n",
              "      <td>90008.000000</td>\n",
              "      <td>1004.000000</td>\n",
              "      <td>45.000000</td>\n",
              "      <td>NaN</td>\n",
              "      <td>199.990005</td>\n",
              "      <td>0.0</td>\n",
              "      <td>2017-02-23 00:52:30</td>\n",
              "    </tr>\n",
              "    <tr>\n",
              "      <th>max</th>\n",
              "      <td>6.000000</td>\n",
              "      <td>4.000000</td>\n",
              "      <td>911.799988</td>\n",
              "      <td>1939.989990</td>\n",
              "      <td>1.000000</td>\n",
              "      <td>76.000000</td>\n",
              "      <td>18563.000000</td>\n",
              "      <td>99205.000000</td>\n",
              "      <td>12.000000</td>\n",
              "      <td>48.781933</td>\n",
              "      <td>...</td>\n",
              "      <td>1999.989990</td>\n",
              "      <td>1939.989990</td>\n",
              "      <td>911.799988</td>\n",
              "      <td>99301.000000</td>\n",
              "      <td>1363.000000</td>\n",
              "      <td>76.000000</td>\n",
              "      <td>NaN</td>\n",
              "      <td>1999.989990</td>\n",
              "      <td>0.0</td>\n",
              "      <td>2017-12-31 23:52:00</td>\n",
              "    </tr>\n",
              "    <tr>\n",
              "      <th>std</th>\n",
              "      <td>1.623518</td>\n",
              "      <td>1.374694</td>\n",
              "      <td>104.552859</td>\n",
              "      <td>119.800990</td>\n",
              "      <td>0.497689</td>\n",
              "      <td>15.007266</td>\n",
              "      <td>3913.941020</td>\n",
              "      <td>37540.664232</td>\n",
              "      <td>1.590594</td>\n",
              "      <td>9.813081</td>\n",
              "      <td>...</td>\n",
              "      <td>132.002670</td>\n",
              "      <td>119.800990</td>\n",
              "      <td>104.552859</td>\n",
              "      <td>31919.279101</td>\n",
              "      <td>329.701138</td>\n",
              "      <td>15.007266</td>\n",
              "      <td>NaN</td>\n",
              "      <td>139.565670</td>\n",
              "      <td>0.0</td>\n",
              "      <td>NaN</td>\n",
              "    </tr>\n",
              "  </tbody>\n",
              "</table>\n",
              "<p>8 rows × 31 columns</p>\n",
              "</div>\n",
              "    <div class=\"colab-df-buttons\">\n",
              "\n",
              "  <div class=\"colab-df-container\">\n",
              "    <button class=\"colab-df-convert\" onclick=\"convertToInteractive('df-f5d773eb-bcde-4c1b-a4ad-cfaa7276710d')\"\n",
              "            title=\"Convert this dataframe to an interactive table.\"\n",
              "            style=\"display:none;\">\n",
              "\n",
              "  <svg xmlns=\"http://www.w3.org/2000/svg\" height=\"24px\" viewBox=\"0 -960 960 960\">\n",
              "    <path d=\"M120-120v-720h720v720H120Zm60-500h600v-160H180v160Zm220 220h160v-160H400v160Zm0 220h160v-160H400v160ZM180-400h160v-160H180v160Zm440 0h160v-160H620v160ZM180-180h160v-160H180v160Zm440 0h160v-160H620v160Z\"/>\n",
              "  </svg>\n",
              "    </button>\n",
              "\n",
              "  <style>\n",
              "    .colab-df-container {\n",
              "      display:flex;\n",
              "      gap: 12px;\n",
              "    }\n",
              "\n",
              "    .colab-df-convert {\n",
              "      background-color: #E8F0FE;\n",
              "      border: none;\n",
              "      border-radius: 50%;\n",
              "      cursor: pointer;\n",
              "      display: none;\n",
              "      fill: #1967D2;\n",
              "      height: 32px;\n",
              "      padding: 0 0 0 0;\n",
              "      width: 32px;\n",
              "    }\n",
              "\n",
              "    .colab-df-convert:hover {\n",
              "      background-color: #E2EBFA;\n",
              "      box-shadow: 0px 1px 2px rgba(60, 64, 67, 0.3), 0px 1px 3px 1px rgba(60, 64, 67, 0.15);\n",
              "      fill: #174EA6;\n",
              "    }\n",
              "\n",
              "    .colab-df-buttons div {\n",
              "      margin-bottom: 4px;\n",
              "    }\n",
              "\n",
              "    [theme=dark] .colab-df-convert {\n",
              "      background-color: #3B4455;\n",
              "      fill: #D2E3FC;\n",
              "    }\n",
              "\n",
              "    [theme=dark] .colab-df-convert:hover {\n",
              "      background-color: #434B5C;\n",
              "      box-shadow: 0px 1px 3px 1px rgba(0, 0, 0, 0.15);\n",
              "      filter: drop-shadow(0px 1px 2px rgba(0, 0, 0, 0.3));\n",
              "      fill: #FFFFFF;\n",
              "    }\n",
              "  </style>\n",
              "\n",
              "    <script>\n",
              "      const buttonEl =\n",
              "        document.querySelector('#df-f5d773eb-bcde-4c1b-a4ad-cfaa7276710d button.colab-df-convert');\n",
              "      buttonEl.style.display =\n",
              "        google.colab.kernel.accessAllowed ? 'block' : 'none';\n",
              "\n",
              "      async function convertToInteractive(key) {\n",
              "        const element = document.querySelector('#df-f5d773eb-bcde-4c1b-a4ad-cfaa7276710d');\n",
              "        const dataTable =\n",
              "          await google.colab.kernel.invokeFunction('convertToInteractive',\n",
              "                                                    [key], {});\n",
              "        if (!dataTable) return;\n",
              "\n",
              "        const docLinkHtml = 'Like what you see? Visit the ' +\n",
              "          '<a target=\"_blank\" href=https://colab.research.google.com/notebooks/data_table.ipynb>data table notebook</a>'\n",
              "          + ' to learn more about interactive tables.';\n",
              "        element.innerHTML = '';\n",
              "        dataTable['output_type'] = 'display_data';\n",
              "        await google.colab.output.renderOutput(dataTable, element);\n",
              "        const docLink = document.createElement('div');\n",
              "        docLink.innerHTML = docLinkHtml;\n",
              "        element.appendChild(docLink);\n",
              "      }\n",
              "    </script>\n",
              "  </div>\n",
              "\n",
              "\n",
              "    <div id=\"df-bd506024-687b-4763-bb39-186c1a7f8175\">\n",
              "      <button class=\"colab-df-quickchart\" onclick=\"quickchart('df-bd506024-687b-4763-bb39-186c1a7f8175')\"\n",
              "                title=\"Suggest charts\"\n",
              "                style=\"display:none;\">\n",
              "\n",
              "<svg xmlns=\"http://www.w3.org/2000/svg\" height=\"24px\"viewBox=\"0 0 24 24\"\n",
              "     width=\"24px\">\n",
              "    <g>\n",
              "        <path d=\"M19 3H5c-1.1 0-2 .9-2 2v14c0 1.1.9 2 2 2h14c1.1 0 2-.9 2-2V5c0-1.1-.9-2-2-2zM9 17H7v-7h2v7zm4 0h-2V7h2v10zm4 0h-2v-4h2v4z\"/>\n",
              "    </g>\n",
              "</svg>\n",
              "      </button>\n",
              "\n",
              "<style>\n",
              "  .colab-df-quickchart {\n",
              "      --bg-color: #E8F0FE;\n",
              "      --fill-color: #1967D2;\n",
              "      --hover-bg-color: #E2EBFA;\n",
              "      --hover-fill-color: #174EA6;\n",
              "      --disabled-fill-color: #AAA;\n",
              "      --disabled-bg-color: #DDD;\n",
              "  }\n",
              "\n",
              "  [theme=dark] .colab-df-quickchart {\n",
              "      --bg-color: #3B4455;\n",
              "      --fill-color: #D2E3FC;\n",
              "      --hover-bg-color: #434B5C;\n",
              "      --hover-fill-color: #FFFFFF;\n",
              "      --disabled-bg-color: #3B4455;\n",
              "      --disabled-fill-color: #666;\n",
              "  }\n",
              "\n",
              "  .colab-df-quickchart {\n",
              "    background-color: var(--bg-color);\n",
              "    border: none;\n",
              "    border-radius: 50%;\n",
              "    cursor: pointer;\n",
              "    display: none;\n",
              "    fill: var(--fill-color);\n",
              "    height: 32px;\n",
              "    padding: 0;\n",
              "    width: 32px;\n",
              "  }\n",
              "\n",
              "  .colab-df-quickchart:hover {\n",
              "    background-color: var(--hover-bg-color);\n",
              "    box-shadow: 0 1px 2px rgba(60, 64, 67, 0.3), 0 1px 3px 1px rgba(60, 64, 67, 0.15);\n",
              "    fill: var(--button-hover-fill-color);\n",
              "  }\n",
              "\n",
              "  .colab-df-quickchart-complete:disabled,\n",
              "  .colab-df-quickchart-complete:disabled:hover {\n",
              "    background-color: var(--disabled-bg-color);\n",
              "    fill: var(--disabled-fill-color);\n",
              "    box-shadow: none;\n",
              "  }\n",
              "\n",
              "  .colab-df-spinner {\n",
              "    border: 2px solid var(--fill-color);\n",
              "    border-color: transparent;\n",
              "    border-bottom-color: var(--fill-color);\n",
              "    animation:\n",
              "      spin 1s steps(1) infinite;\n",
              "  }\n",
              "\n",
              "  @keyframes spin {\n",
              "    0% {\n",
              "      border-color: transparent;\n",
              "      border-bottom-color: var(--fill-color);\n",
              "      border-left-color: var(--fill-color);\n",
              "    }\n",
              "    20% {\n",
              "      border-color: transparent;\n",
              "      border-left-color: var(--fill-color);\n",
              "      border-top-color: var(--fill-color);\n",
              "    }\n",
              "    30% {\n",
              "      border-color: transparent;\n",
              "      border-left-color: var(--fill-color);\n",
              "      border-top-color: var(--fill-color);\n",
              "      border-right-color: var(--fill-color);\n",
              "    }\n",
              "    40% {\n",
              "      border-color: transparent;\n",
              "      border-right-color: var(--fill-color);\n",
              "      border-top-color: var(--fill-color);\n",
              "    }\n",
              "    60% {\n",
              "      border-color: transparent;\n",
              "      border-right-color: var(--fill-color);\n",
              "    }\n",
              "    80% {\n",
              "      border-color: transparent;\n",
              "      border-right-color: var(--fill-color);\n",
              "      border-bottom-color: var(--fill-color);\n",
              "    }\n",
              "    90% {\n",
              "      border-color: transparent;\n",
              "      border-bottom-color: var(--fill-color);\n",
              "    }\n",
              "  }\n",
              "</style>\n",
              "\n",
              "      <script>\n",
              "        async function quickchart(key) {\n",
              "          const quickchartButtonEl =\n",
              "            document.querySelector('#' + key + ' button');\n",
              "          quickchartButtonEl.disabled = true;  // To prevent multiple clicks.\n",
              "          quickchartButtonEl.classList.add('colab-df-spinner');\n",
              "          try {\n",
              "            const charts = await google.colab.kernel.invokeFunction(\n",
              "                'suggestCharts', [key], {});\n",
              "          } catch (error) {\n",
              "            console.error('Error during call to suggestCharts:', error);\n",
              "          }\n",
              "          quickchartButtonEl.classList.remove('colab-df-spinner');\n",
              "          quickchartButtonEl.classList.add('colab-df-quickchart-complete');\n",
              "        }\n",
              "        (() => {\n",
              "          let quickchartButtonEl =\n",
              "            document.querySelector('#df-bd506024-687b-4763-bb39-186c1a7f8175 button');\n",
              "          quickchartButtonEl.style.display =\n",
              "            google.colab.kernel.accessAllowed ? 'block' : 'none';\n",
              "        })();\n",
              "      </script>\n",
              "    </div>\n",
              "\n",
              "    </div>\n",
              "  </div>\n"
            ],
            "application/vnd.google.colaboratory.intrinsic+json": {
              "type": "dataframe"
            }
          },
          "metadata": {},
          "execution_count": 157
        }
      ]
    },
    {
      "cell_type": "markdown",
      "source": [
        "From this we get:\n",
        "1. There are 178150 orders made.\n",
        "2. App 55% of orders had late delievery risks.\n",
        "3. All the products are available.\n",
        "4. 75% of customers bought goods worth at least $247.40."
      ],
      "metadata": {
        "id": "5SGLo8I6i1ax"
      }
    },
    {
      "cell_type": "code",
      "source": [
        "df.info()"
      ],
      "metadata": {
        "colab": {
          "base_uri": "https://localhost:8080/"
        },
        "id": "WU5l4X56ixea",
        "outputId": "77177cb3-1c0b-4c5d-f6a4-43d9ccbeb0d0"
      },
      "execution_count": 158,
      "outputs": [
        {
          "output_type": "stream",
          "name": "stdout",
          "text": [
            "<class 'pandas.core.frame.DataFrame'>\n",
            "Index: 178150 entries, 48 to 180518\n",
            "Data columns (total 53 columns):\n",
            " #   Column                         Non-Null Count   Dtype         \n",
            "---  ------                         --------------   -----         \n",
            " 0   Type                           178150 non-null  object        \n",
            " 1   Days for shipping (real)       178150 non-null  int64         \n",
            " 2   Days for shipment (scheduled)  178150 non-null  int64         \n",
            " 3   Benefit per order              178150 non-null  float64       \n",
            " 4   Sales per customer             178150 non-null  float64       \n",
            " 5   Delivery Status                178150 non-null  object        \n",
            " 6   Late_delivery_risk             178150 non-null  int64         \n",
            " 7   Category Id                    178150 non-null  int64         \n",
            " 8   Category Name                  178150 non-null  object        \n",
            " 9   Customer City                  178150 non-null  object        \n",
            " 10  Customer Country               178150 non-null  object        \n",
            " 11  Customer Email                 178150 non-null  object        \n",
            " 12  Customer Fname                 178150 non-null  object        \n",
            " 13  Customer Id                    178150 non-null  int64         \n",
            " 14  Customer Lname                 178144 non-null  object        \n",
            " 15  Customer Password              178150 non-null  object        \n",
            " 16  Customer Segment               178150 non-null  object        \n",
            " 17  Customer State                 178150 non-null  object        \n",
            " 18  Customer Street                178150 non-null  object        \n",
            " 19  Customer Zipcode               178147 non-null  float64       \n",
            " 20  Department Id                  178150 non-null  int64         \n",
            " 21  Department Name                178150 non-null  object        \n",
            " 22  Latitude                       178150 non-null  float64       \n",
            " 23  Longitude                      178150 non-null  float64       \n",
            " 24  Market                         178150 non-null  object        \n",
            " 25  Order City                     178150 non-null  object        \n",
            " 26  Order Country                  178150 non-null  object        \n",
            " 27  Order Customer Id              178150 non-null  int64         \n",
            " 28  order date (DateOrders)        178150 non-null  datetime64[ns]\n",
            " 29  Order Id                       178150 non-null  int64         \n",
            " 30  Order Item Cardprod Id         178150 non-null  int64         \n",
            " 31  Order Item Discount            178150 non-null  float64       \n",
            " 32  Order Item Discount Rate       178150 non-null  float64       \n",
            " 33  Order Item Id                  178150 non-null  int64         \n",
            " 34  Order Item Product Price       178150 non-null  float64       \n",
            " 35  Order Item Profit Ratio        178150 non-null  float64       \n",
            " 36  Order Item Quantity            178150 non-null  int64         \n",
            " 37  Sales                          178150 non-null  float64       \n",
            " 38  Order Item Total               178150 non-null  float64       \n",
            " 39  Order Profit Per Order         178150 non-null  float64       \n",
            " 40  Order Region                   178150 non-null  object        \n",
            " 41  Order State                    178150 non-null  object        \n",
            " 42  Order Status                   178150 non-null  object        \n",
            " 43  Order Zipcode                  24840 non-null   float64       \n",
            " 44  Product Card Id                178150 non-null  int64         \n",
            " 45  Product Category Id            178150 non-null  int64         \n",
            " 46  Product Description            0 non-null       float64       \n",
            " 47  Product Image                  178150 non-null  object        \n",
            " 48  Product Name                   178150 non-null  object        \n",
            " 49  Product Price                  178150 non-null  float64       \n",
            " 50  Product Status                 178150 non-null  int64         \n",
            " 51  shipping date (DateOrders)     178150 non-null  datetime64[ns]\n",
            " 52  Shipping Mode                  178150 non-null  object        \n",
            "dtypes: datetime64[ns](2), float64(15), int64(14), object(22)\n",
            "memory usage: 73.4+ MB\n"
          ]
        }
      ]
    },
    {
      "cell_type": "markdown",
      "source": [
        "Data Preprocessing:\n",
        "Tasks:\n",
        "*   Dropping irrelevant columns\n",
        "*   Drop rows with missing values\n",
        "*   Create new features\n",
        "*   Convert categorical features to numerical features."
      ],
      "metadata": {
        "id": "p6oMko2SjPAq"
      }
    },
    {
      "cell_type": "code",
      "source": [
        "# Drop Irrelevant Columns:\n",
        "\n",
        "def drop_columns(df, columns_to_drop):\n",
        "  df = df.drop(columns=columns_to_drop)\n",
        "  print(f\"{len(columns_to_drop)} columns dropped successfully. Number of columns remaining: {len(df.columns)}\")\n",
        "  return df\n",
        "\n",
        "columns_to_drop = ['Category Id', 'Customer Email', 'Customer Password', 'Customer Street', 'Customer Zipcode', 'Department Id', 'Latitude', 'Longitude', 'Order Customer Id', 'Order Item Cardprod Id', 'Order Item Product Price', 'Order Profit Per Order', 'Order Zipcode', 'Product Category Id', 'Product Description', 'Product Image']\n",
        "df = drop_columns(df, columns_to_drop)"
      ],
      "metadata": {
        "colab": {
          "base_uri": "https://localhost:8080/"
        },
        "id": "isvGOEtLjNkw",
        "outputId": "3cf12301-46e5-4b20-cb6a-cebaa1012941"
      },
      "execution_count": 159,
      "outputs": [
        {
          "output_type": "stream",
          "name": "stdout",
          "text": [
            "16 columns dropped successfully. Number of columns remaining: 37\n"
          ]
        }
      ]
    },
    {
      "cell_type": "markdown",
      "source": [
        "Checking missing values"
      ],
      "metadata": {
        "id": "v3bESmA6gccR"
      }
    },
    {
      "cell_type": "code",
      "source": [
        "df.isnull().sum()"
      ],
      "metadata": {
        "colab": {
          "base_uri": "https://localhost:8080/",
          "height": 1000
        },
        "id": "p9y0D8pfloa0",
        "outputId": "686ab008-b635-4f00-9e0e-10da6ab0d943"
      },
      "execution_count": 160,
      "outputs": [
        {
          "output_type": "execute_result",
          "data": {
            "text/plain": [
              "Type                             0\n",
              "Days for shipping (real)         0\n",
              "Days for shipment (scheduled)    0\n",
              "Benefit per order                0\n",
              "Sales per customer               0\n",
              "Delivery Status                  0\n",
              "Late_delivery_risk               0\n",
              "Category Name                    0\n",
              "Customer City                    0\n",
              "Customer Country                 0\n",
              "Customer Fname                   0\n",
              "Customer Id                      0\n",
              "Customer Lname                   6\n",
              "Customer Segment                 0\n",
              "Customer State                   0\n",
              "Department Name                  0\n",
              "Market                           0\n",
              "Order City                       0\n",
              "Order Country                    0\n",
              "order date (DateOrders)          0\n",
              "Order Id                         0\n",
              "Order Item Discount              0\n",
              "Order Item Discount Rate         0\n",
              "Order Item Id                    0\n",
              "Order Item Profit Ratio          0\n",
              "Order Item Quantity              0\n",
              "Sales                            0\n",
              "Order Item Total                 0\n",
              "Order Region                     0\n",
              "Order State                      0\n",
              "Order Status                     0\n",
              "Product Card Id                  0\n",
              "Product Name                     0\n",
              "Product Price                    0\n",
              "Product Status                   0\n",
              "shipping date (DateOrders)       0\n",
              "Shipping Mode                    0\n",
              "dtype: int64"
            ],
            "text/html": [
              "<div>\n",
              "<style scoped>\n",
              "    .dataframe tbody tr th:only-of-type {\n",
              "        vertical-align: middle;\n",
              "    }\n",
              "\n",
              "    .dataframe tbody tr th {\n",
              "        vertical-align: top;\n",
              "    }\n",
              "\n",
              "    .dataframe thead th {\n",
              "        text-align: right;\n",
              "    }\n",
              "</style>\n",
              "<table border=\"1\" class=\"dataframe\">\n",
              "  <thead>\n",
              "    <tr style=\"text-align: right;\">\n",
              "      <th></th>\n",
              "      <th>0</th>\n",
              "    </tr>\n",
              "  </thead>\n",
              "  <tbody>\n",
              "    <tr>\n",
              "      <th>Type</th>\n",
              "      <td>0</td>\n",
              "    </tr>\n",
              "    <tr>\n",
              "      <th>Days for shipping (real)</th>\n",
              "      <td>0</td>\n",
              "    </tr>\n",
              "    <tr>\n",
              "      <th>Days for shipment (scheduled)</th>\n",
              "      <td>0</td>\n",
              "    </tr>\n",
              "    <tr>\n",
              "      <th>Benefit per order</th>\n",
              "      <td>0</td>\n",
              "    </tr>\n",
              "    <tr>\n",
              "      <th>Sales per customer</th>\n",
              "      <td>0</td>\n",
              "    </tr>\n",
              "    <tr>\n",
              "      <th>Delivery Status</th>\n",
              "      <td>0</td>\n",
              "    </tr>\n",
              "    <tr>\n",
              "      <th>Late_delivery_risk</th>\n",
              "      <td>0</td>\n",
              "    </tr>\n",
              "    <tr>\n",
              "      <th>Category Name</th>\n",
              "      <td>0</td>\n",
              "    </tr>\n",
              "    <tr>\n",
              "      <th>Customer City</th>\n",
              "      <td>0</td>\n",
              "    </tr>\n",
              "    <tr>\n",
              "      <th>Customer Country</th>\n",
              "      <td>0</td>\n",
              "    </tr>\n",
              "    <tr>\n",
              "      <th>Customer Fname</th>\n",
              "      <td>0</td>\n",
              "    </tr>\n",
              "    <tr>\n",
              "      <th>Customer Id</th>\n",
              "      <td>0</td>\n",
              "    </tr>\n",
              "    <tr>\n",
              "      <th>Customer Lname</th>\n",
              "      <td>6</td>\n",
              "    </tr>\n",
              "    <tr>\n",
              "      <th>Customer Segment</th>\n",
              "      <td>0</td>\n",
              "    </tr>\n",
              "    <tr>\n",
              "      <th>Customer State</th>\n",
              "      <td>0</td>\n",
              "    </tr>\n",
              "    <tr>\n",
              "      <th>Department Name</th>\n",
              "      <td>0</td>\n",
              "    </tr>\n",
              "    <tr>\n",
              "      <th>Market</th>\n",
              "      <td>0</td>\n",
              "    </tr>\n",
              "    <tr>\n",
              "      <th>Order City</th>\n",
              "      <td>0</td>\n",
              "    </tr>\n",
              "    <tr>\n",
              "      <th>Order Country</th>\n",
              "      <td>0</td>\n",
              "    </tr>\n",
              "    <tr>\n",
              "      <th>order date (DateOrders)</th>\n",
              "      <td>0</td>\n",
              "    </tr>\n",
              "    <tr>\n",
              "      <th>Order Id</th>\n",
              "      <td>0</td>\n",
              "    </tr>\n",
              "    <tr>\n",
              "      <th>Order Item Discount</th>\n",
              "      <td>0</td>\n",
              "    </tr>\n",
              "    <tr>\n",
              "      <th>Order Item Discount Rate</th>\n",
              "      <td>0</td>\n",
              "    </tr>\n",
              "    <tr>\n",
              "      <th>Order Item Id</th>\n",
              "      <td>0</td>\n",
              "    </tr>\n",
              "    <tr>\n",
              "      <th>Order Item Profit Ratio</th>\n",
              "      <td>0</td>\n",
              "    </tr>\n",
              "    <tr>\n",
              "      <th>Order Item Quantity</th>\n",
              "      <td>0</td>\n",
              "    </tr>\n",
              "    <tr>\n",
              "      <th>Sales</th>\n",
              "      <td>0</td>\n",
              "    </tr>\n",
              "    <tr>\n",
              "      <th>Order Item Total</th>\n",
              "      <td>0</td>\n",
              "    </tr>\n",
              "    <tr>\n",
              "      <th>Order Region</th>\n",
              "      <td>0</td>\n",
              "    </tr>\n",
              "    <tr>\n",
              "      <th>Order State</th>\n",
              "      <td>0</td>\n",
              "    </tr>\n",
              "    <tr>\n",
              "      <th>Order Status</th>\n",
              "      <td>0</td>\n",
              "    </tr>\n",
              "    <tr>\n",
              "      <th>Product Card Id</th>\n",
              "      <td>0</td>\n",
              "    </tr>\n",
              "    <tr>\n",
              "      <th>Product Name</th>\n",
              "      <td>0</td>\n",
              "    </tr>\n",
              "    <tr>\n",
              "      <th>Product Price</th>\n",
              "      <td>0</td>\n",
              "    </tr>\n",
              "    <tr>\n",
              "      <th>Product Status</th>\n",
              "      <td>0</td>\n",
              "    </tr>\n",
              "    <tr>\n",
              "      <th>shipping date (DateOrders)</th>\n",
              "      <td>0</td>\n",
              "    </tr>\n",
              "    <tr>\n",
              "      <th>Shipping Mode</th>\n",
              "      <td>0</td>\n",
              "    </tr>\n",
              "  </tbody>\n",
              "</table>\n",
              "</div><br><label><b>dtype:</b> int64</label>"
            ]
          },
          "metadata": {},
          "execution_count": 160
        }
      ]
    },
    {
      "cell_type": "code",
      "source": [
        "# There are NO Null values found."
      ],
      "metadata": {
        "id": "9Rff-8OClxKE"
      },
      "execution_count": 161,
      "outputs": []
    },
    {
      "cell_type": "code",
      "source": [
        "# Create New features"
      ],
      "metadata": {
        "id": "JqGE4tXDl241"
      },
      "execution_count": 162,
      "outputs": []
    },
    {
      "cell_type": "code",
      "source": [
        "# The dataset contains a order date column which is DateTime object from which we can extract Month, Year, Day and Day of Week that can be useful in our analysis i.e. Month, Year, Day & Day of Week."
      ],
      "metadata": {
        "id": "EVU1PZ4Rl6Xx"
      },
      "execution_count": 163,
      "outputs": []
    },
    {
      "cell_type": "code",
      "source": [
        "df['Shipping-Year']= df['shipping date (DateOrders)'].dt.year\n",
        "df['Shipping-Month']=df['shipping date (DateOrders)'].dt.month\n",
        "df['Shipping-day']=df['shipping date (DateOrders)'].dt.day\n",
        "df['Shipping-weekday']=df['shipping date (DateOrders)'].dt.weekday\n",
        "df.info()"
      ],
      "metadata": {
        "colab": {
          "base_uri": "https://localhost:8080/"
        },
        "id": "XMmzYvCTmNWo",
        "outputId": "c48b0b90-2395-4eb5-9edd-331a3ce2c1da"
      },
      "execution_count": 164,
      "outputs": [
        {
          "output_type": "stream",
          "name": "stdout",
          "text": [
            "<class 'pandas.core.frame.DataFrame'>\n",
            "Index: 178150 entries, 48 to 180518\n",
            "Data columns (total 41 columns):\n",
            " #   Column                         Non-Null Count   Dtype         \n",
            "---  ------                         --------------   -----         \n",
            " 0   Type                           178150 non-null  object        \n",
            " 1   Days for shipping (real)       178150 non-null  int64         \n",
            " 2   Days for shipment (scheduled)  178150 non-null  int64         \n",
            " 3   Benefit per order              178150 non-null  float64       \n",
            " 4   Sales per customer             178150 non-null  float64       \n",
            " 5   Delivery Status                178150 non-null  object        \n",
            " 6   Late_delivery_risk             178150 non-null  int64         \n",
            " 7   Category Name                  178150 non-null  object        \n",
            " 8   Customer City                  178150 non-null  object        \n",
            " 9   Customer Country               178150 non-null  object        \n",
            " 10  Customer Fname                 178150 non-null  object        \n",
            " 11  Customer Id                    178150 non-null  int64         \n",
            " 12  Customer Lname                 178144 non-null  object        \n",
            " 13  Customer Segment               178150 non-null  object        \n",
            " 14  Customer State                 178150 non-null  object        \n",
            " 15  Department Name                178150 non-null  object        \n",
            " 16  Market                         178150 non-null  object        \n",
            " 17  Order City                     178150 non-null  object        \n",
            " 18  Order Country                  178150 non-null  object        \n",
            " 19  order date (DateOrders)        178150 non-null  datetime64[ns]\n",
            " 20  Order Id                       178150 non-null  int64         \n",
            " 21  Order Item Discount            178150 non-null  float64       \n",
            " 22  Order Item Discount Rate       178150 non-null  float64       \n",
            " 23  Order Item Id                  178150 non-null  int64         \n",
            " 24  Order Item Profit Ratio        178150 non-null  float64       \n",
            " 25  Order Item Quantity            178150 non-null  int64         \n",
            " 26  Sales                          178150 non-null  float64       \n",
            " 27  Order Item Total               178150 non-null  float64       \n",
            " 28  Order Region                   178150 non-null  object        \n",
            " 29  Order State                    178150 non-null  object        \n",
            " 30  Order Status                   178150 non-null  object        \n",
            " 31  Product Card Id                178150 non-null  int64         \n",
            " 32  Product Name                   178150 non-null  object        \n",
            " 33  Product Price                  178150 non-null  float64       \n",
            " 34  Product Status                 178150 non-null  int64         \n",
            " 35  shipping date (DateOrders)     178150 non-null  datetime64[ns]\n",
            " 36  Shipping Mode                  178150 non-null  object        \n",
            " 37  Shipping-Year                  178150 non-null  int32         \n",
            " 38  Shipping-Month                 178150 non-null  int32         \n",
            " 39  Shipping-day                   178150 non-null  int32         \n",
            " 40  Shipping-weekday               178150 non-null  int32         \n",
            "dtypes: datetime64[ns](2), float64(8), int32(4), int64(9), object(18)\n",
            "memory usage: 54.4+ MB\n"
          ]
        }
      ]
    },
    {
      "cell_type": "markdown",
      "source": [
        "## Data Encoding\n",
        "\n",
        "Analyzing categorical data can be difficult, especially in machine learning applications where models usually need numerical inputs. In order to solve this, methods such as sklearn's LabelEncoder are used to translate categorical values—such as nation names like the UK, USA, and France—into numerical representations.\n",
        "\n",
        "To make categorical features more compatible with machine learning methods, one-hot-encoding is also used to convert them into binary vectors. By implementing these changes, we provide the data the structure it needs for reliable analysis and modeling in subsequent projects (when they are completed, not for this one)."
      ],
      "metadata": {
        "id": "egZTT8uQm79h"
      }
    },
    {
      "cell_type": "markdown",
      "source": [
        "# New Section"
      ],
      "metadata": {
        "id": "3NWK9on_XQsP"
      }
    },
    {
      "cell_type": "code",
      "source": [
        "# Top selling product id (by order frequency)\n",
        "\n",
        "top_product = df['Product Card Id'].value_counts().index[0]\n",
        "print(f\"Filtering and Encoding Dataset for Top Product ID: {top_product}\")\n",
        "\n",
        "# # Top Selling product id (by max sales)\n",
        "# product_sales =df.groupby('Product Card Id')['Sales'].sum()\n",
        "# # Rank products based on total sales\n",
        "#ranked_products = product_sales.sort_values(ascending=False)\n",
        "# # Select top product\n",
        "#top_product = ranked_products.index[0]\n",
        "# print(\"Top Product by Sales:\", top_product)"
      ],
      "metadata": {
        "colab": {
          "base_uri": "https://localhost:8080/"
        },
        "id": "i-4AZDk-n-Rj",
        "outputId": "e818beb5-ccef-4ee6-c6a4-376d5e6a042f"
      },
      "execution_count": 165,
      "outputs": [
        {
          "output_type": "stream",
          "name": "stdout",
          "text": [
            "Filtering and Encoding Dataset for Top Product ID: 365\n"
          ]
        }
      ]
    },
    {
      "cell_type": "code",
      "source": [
        "def encode(df, product_card_id, categorical_cols, columns_to_drop):\n",
        "  \"\"\"\n",
        "  This function first filters the DataFrame according to a given product card ID in order to prepare the data for analysis and machine learning operations.\n",
        "    After that, it uses the LabelEncoder from Sklearn to conduct label encoding on categorical columns, removing the designated columns in the process.\n",
        "    Furthermore, it uses pd.get_dummies() to do one-hot encoding on the same categories columns before dropping the designated columns once more.\n",
        "\n",
        " Data (pandas.DataFrame): Parameters dataframe in its original form.\n",
        "    (int) product_card_id: To filter the DataFrame on, use the product card ID.\n",
        "    category_cols (str list): the categorical column names to which encoding should be applied.\n",
        "    fields_to_drop (str list): the DataFrame's column names that need to be removed.\n",
        "\n",
        "The label-encoded DataFrame for bivariate analysis is returned by label_encoded_df (pandas.DataFrame).\n",
        "    The one-hot encoded DataFrame for machine learning is called one_hot_encoded_df (pandas.DataFrame).\n",
        "  \"\"\"\n",
        "  # Copy is created to avoid modifying the original data\n",
        "  df_copy = df[df['Product Card Id'] == product_card_id].copy()\n",
        "  #Label Encoding\n",
        "  label_encoder = LabelEncoder()\n",
        "  label_encoded = df_copy.copy()\n",
        "  for column in categorical_cols:\n",
        "    label_encoded[column] = label_encoder.fit_transform(label_encoded[column])\n",
        "  #Drop specified column\n",
        "  label_encoded = label_encoded.drop(columns=columns_to_drop)\n",
        "  #One-Hot Encoding\n",
        "  one_hot_encoded = pd.get_dummies(df_copy, columns=categorical_cols)\n",
        "  #Drop specified columns\n",
        "  one_hot_encoded = one_hot_encoded.drop(columns=columns_to_drop)\n",
        "  print(\"Data Encoding successful\")\n",
        "  return label_encoded, one_hot_encoded"
      ],
      "metadata": {
        "id": "L2NWkiKvpSeD"
      },
      "execution_count": 166,
      "outputs": []
    },
    {
      "cell_type": "code",
      "source": [
        "# Use the function to prepare the data for bivariate analysis\n",
        "\n",
        "categorical_cols = ['Type', 'Customer Segment', 'Delivery Status', 'Customer City', 'Market', 'Shipping Mode']\n",
        "columns_to_drop = ['Category Name', 'Customer Fname', 'Customer Id', 'Customer Lname', 'Customer State', 'Department Name', 'Product Name', 'Order City', 'Order Country', 'Order Id', 'Order Item Discount', 'Order Item Discount Rate', 'Order Item Id', 'Order Item Profit Ratio', 'Order Item Quantity','Order Item Total','Order Region','Order State','Order Status','Days for shipment (scheduled)','Sales per customer','Customer Country','order date (DateOrders)','Product Card Id', 'Product Status', 'Product Price']\n",
        "\n",
        "# drop columns and encode data for correlation martrix and machine learning\n",
        "label_encoded_df, one_hot_encoded_df = encode(df, top_product, categorical_cols, columns_to_drop)\n"
      ],
      "metadata": {
        "colab": {
          "base_uri": "https://localhost:8080/"
        },
        "id": "OblF6PA0pSiM",
        "outputId": "0fbd170f-02b1-4883-c531-bc962742e825"
      },
      "execution_count": 167,
      "outputs": [
        {
          "output_type": "stream",
          "name": "stdout",
          "text": [
            "Data Encoding successful\n"
          ]
        }
      ]
    },
    {
      "cell_type": "code",
      "source": [
        "label_encoded_df.dtypes"
      ],
      "metadata": {
        "colab": {
          "base_uri": "https://localhost:8080/",
          "height": 554
        },
        "id": "FsWQxRZLvXQF",
        "outputId": "822fc765-b908-48d2-d1f9-e952c049d3e8"
      },
      "execution_count": 168,
      "outputs": [
        {
          "output_type": "execute_result",
          "data": {
            "text/plain": [
              "Type                                   int64\n",
              "Days for shipping (real)               int64\n",
              "Benefit per order                    float64\n",
              "Delivery Status                        int64\n",
              "Late_delivery_risk                     int64\n",
              "Customer City                          int64\n",
              "Customer Segment                       int64\n",
              "Market                                 int64\n",
              "Sales                                float64\n",
              "shipping date (DateOrders)    datetime64[ns]\n",
              "Shipping Mode                          int64\n",
              "Shipping-Year                          int32\n",
              "Shipping-Month                         int32\n",
              "Shipping-day                           int32\n",
              "Shipping-weekday                       int32\n",
              "dtype: object"
            ],
            "text/html": [
              "<div>\n",
              "<style scoped>\n",
              "    .dataframe tbody tr th:only-of-type {\n",
              "        vertical-align: middle;\n",
              "    }\n",
              "\n",
              "    .dataframe tbody tr th {\n",
              "        vertical-align: top;\n",
              "    }\n",
              "\n",
              "    .dataframe thead th {\n",
              "        text-align: right;\n",
              "    }\n",
              "</style>\n",
              "<table border=\"1\" class=\"dataframe\">\n",
              "  <thead>\n",
              "    <tr style=\"text-align: right;\">\n",
              "      <th></th>\n",
              "      <th>0</th>\n",
              "    </tr>\n",
              "  </thead>\n",
              "  <tbody>\n",
              "    <tr>\n",
              "      <th>Type</th>\n",
              "      <td>int64</td>\n",
              "    </tr>\n",
              "    <tr>\n",
              "      <th>Days for shipping (real)</th>\n",
              "      <td>int64</td>\n",
              "    </tr>\n",
              "    <tr>\n",
              "      <th>Benefit per order</th>\n",
              "      <td>float64</td>\n",
              "    </tr>\n",
              "    <tr>\n",
              "      <th>Delivery Status</th>\n",
              "      <td>int64</td>\n",
              "    </tr>\n",
              "    <tr>\n",
              "      <th>Late_delivery_risk</th>\n",
              "      <td>int64</td>\n",
              "    </tr>\n",
              "    <tr>\n",
              "      <th>Customer City</th>\n",
              "      <td>int64</td>\n",
              "    </tr>\n",
              "    <tr>\n",
              "      <th>Customer Segment</th>\n",
              "      <td>int64</td>\n",
              "    </tr>\n",
              "    <tr>\n",
              "      <th>Market</th>\n",
              "      <td>int64</td>\n",
              "    </tr>\n",
              "    <tr>\n",
              "      <th>Sales</th>\n",
              "      <td>float64</td>\n",
              "    </tr>\n",
              "    <tr>\n",
              "      <th>shipping date (DateOrders)</th>\n",
              "      <td>datetime64[ns]</td>\n",
              "    </tr>\n",
              "    <tr>\n",
              "      <th>Shipping Mode</th>\n",
              "      <td>int64</td>\n",
              "    </tr>\n",
              "    <tr>\n",
              "      <th>Shipping-Year</th>\n",
              "      <td>int32</td>\n",
              "    </tr>\n",
              "    <tr>\n",
              "      <th>Shipping-Month</th>\n",
              "      <td>int32</td>\n",
              "    </tr>\n",
              "    <tr>\n",
              "      <th>Shipping-day</th>\n",
              "      <td>int32</td>\n",
              "    </tr>\n",
              "    <tr>\n",
              "      <th>Shipping-weekday</th>\n",
              "      <td>int32</td>\n",
              "    </tr>\n",
              "  </tbody>\n",
              "</table>\n",
              "</div><br><label><b>dtype:</b> object</label>"
            ]
          },
          "metadata": {},
          "execution_count": 168
        }
      ]
    },
    {
      "cell_type": "code",
      "source": [
        "one_hot_encoded_df.dtypes"
      ],
      "metadata": {
        "colab": {
          "base_uri": "https://localhost:8080/",
          "height": 458
        },
        "id": "fSPrI2LdpSqi",
        "outputId": "29fb492c-243b-4820-8f9b-bb5ca34215b5"
      },
      "execution_count": 169,
      "outputs": [
        {
          "output_type": "execute_result",
          "data": {
            "text/plain": [
              "Days for shipping (real)                 int64\n",
              "Benefit per order                      float64\n",
              "Late_delivery_risk                       int64\n",
              "Sales                                  float64\n",
              "shipping date (DateOrders)      datetime64[ns]\n",
              "                                     ...      \n",
              "Market_USCA                               bool\n",
              "Shipping Mode_First Class                 bool\n",
              "Shipping Mode_Same Day                    bool\n",
              "Shipping Mode_Second Class                bool\n",
              "Shipping Mode_Standard Class              bool\n",
              "Length: 591, dtype: object"
            ],
            "text/html": [
              "<div>\n",
              "<style scoped>\n",
              "    .dataframe tbody tr th:only-of-type {\n",
              "        vertical-align: middle;\n",
              "    }\n",
              "\n",
              "    .dataframe tbody tr th {\n",
              "        vertical-align: top;\n",
              "    }\n",
              "\n",
              "    .dataframe thead th {\n",
              "        text-align: right;\n",
              "    }\n",
              "</style>\n",
              "<table border=\"1\" class=\"dataframe\">\n",
              "  <thead>\n",
              "    <tr style=\"text-align: right;\">\n",
              "      <th></th>\n",
              "      <th>0</th>\n",
              "    </tr>\n",
              "  </thead>\n",
              "  <tbody>\n",
              "    <tr>\n",
              "      <th>Days for shipping (real)</th>\n",
              "      <td>int64</td>\n",
              "    </tr>\n",
              "    <tr>\n",
              "      <th>Benefit per order</th>\n",
              "      <td>float64</td>\n",
              "    </tr>\n",
              "    <tr>\n",
              "      <th>Late_delivery_risk</th>\n",
              "      <td>int64</td>\n",
              "    </tr>\n",
              "    <tr>\n",
              "      <th>Sales</th>\n",
              "      <td>float64</td>\n",
              "    </tr>\n",
              "    <tr>\n",
              "      <th>shipping date (DateOrders)</th>\n",
              "      <td>datetime64[ns]</td>\n",
              "    </tr>\n",
              "    <tr>\n",
              "      <th>...</th>\n",
              "      <td>...</td>\n",
              "    </tr>\n",
              "    <tr>\n",
              "      <th>Market_USCA</th>\n",
              "      <td>bool</td>\n",
              "    </tr>\n",
              "    <tr>\n",
              "      <th>Shipping Mode_First Class</th>\n",
              "      <td>bool</td>\n",
              "    </tr>\n",
              "    <tr>\n",
              "      <th>Shipping Mode_Same Day</th>\n",
              "      <td>bool</td>\n",
              "    </tr>\n",
              "    <tr>\n",
              "      <th>Shipping Mode_Second Class</th>\n",
              "      <td>bool</td>\n",
              "    </tr>\n",
              "    <tr>\n",
              "      <th>Shipping Mode_Standard Class</th>\n",
              "      <td>bool</td>\n",
              "    </tr>\n",
              "  </tbody>\n",
              "</table>\n",
              "<p>591 rows × 1 columns</p>\n",
              "</div><br><label><b>dtype:</b> object</label>"
            ]
          },
          "metadata": {},
          "execution_count": 169
        }
      ]
    },
    {
      "cell_type": "code",
      "source": [
        "# Data preprocessing done!!!\n",
        "# The dataset is now ready for further analysis and modeling."
      ],
      "metadata": {
        "id": "E3Vq1k_fpSt6"
      },
      "execution_count": 170,
      "outputs": []
    },
    {
      "cell_type": "code",
      "source": [
        "#Exploratory Data Visualizations\n",
        "# lets highlight the distributions of the individual variables as well as the relationship between the variables and the target variables."
      ],
      "metadata": {
        "id": "TcDVM80m64iy"
      },
      "execution_count": 171,
      "outputs": []
    },
    {
      "cell_type": "code",
      "source": [
        "#Univariate Analysis"
      ],
      "metadata": {
        "id": "uJ_vzc9g7Hyk"
      },
      "execution_count": 172,
      "outputs": []
    },
    {
      "cell_type": "code",
      "source": [
        "fig, axes = plt.subplots(nrows=2, ncols=2, figsize=(8,8))\n",
        "fig.suptitle('Distribution Plots for Selected Variables', fontsize=12)\n",
        "\n",
        "df_copy =df.copy()\n",
        "\n",
        "#Top 10 products as per the count\n",
        "sns.countplot(data=df_copy, x='Product Card Id', ax=axes[0,0],\n",
        "              order=df_copy['Product Card Id'].value_counts().iloc[:10].index)\n",
        "axes[0,0].set_title('Distribution of Top Ten Product Id')\n",
        "axes[0,0].set_xlabel('Product Card Id')\n",
        "axes[0,0].set_ylabel('Frequency')\n",
        "\n",
        "#Sales per customer Distribution\n",
        "sns.histplot(data=df_copy, x='Sales per customer', bins=30, color='lightgreen', ax=axes[1,0])\n",
        "axes[1,0].set_title('Distribution of Sales per Customer')\n",
        "axes[1,0].set_xlabel('Sales per Customer')\n",
        "axes[1,0].set_ylabel('Frequency')\n",
        "\n",
        "#Product Price Distribution\n",
        "sns.histplot(data=df_copy, x='Product Price', bins=30, color='orange', ax=axes[1,1])\n",
        "axes[1,1].set_title('Distribution of Product Price')\n",
        "axes[1,1].set_xlabel('Product Price')\n",
        "\n",
        "plt.tight_layout(rect=[0,0.03, 1, 0.95])"
      ],
      "metadata": {
        "colab": {
          "base_uri": "https://localhost:8080/",
          "height": 782
        },
        "id": "wvs5uZCz7Kpo",
        "outputId": "241ebe85-0f01-482a-9f12-f55b7f75b02e"
      },
      "execution_count": 173,
      "outputs": [
        {
          "output_type": "display_data",
          "data": {
            "text/plain": [
              "<Figure size 800x800 with 4 Axes>"
            ],
            "image/png": "[encoded data removed]"
          },
          "metadata": {}
        }
      ]
    },
    {
      "cell_type": "markdown",
      "source": [
        "From the visuals, we find that:\n",
        "\n",
        "The product name, Prefect Fitness's Perfect Rip Deck, is associated with the top selling product ID, 365, indicating a high-volume item.\n",
        "\n",
        "Both the sales value and sales per customer distributions have a long tail and are favorably biased. This suggests that low-value products account for the majority of sales. This is an intriguing finding since it might imply that most consumers are price conscious.\n",
        "\n",
        "Additionally, the Product Price distribution has a lengthy tail and is favorably skewed. This indicates that the vast majority of goods are of low value.\n",
        "\n",
        "Note: In light of the univariate analysis's revelation. The top-selling Product Card ID (365 'Perfect Fitness Perfect Rip Deck') will be the concentrate of the remaining study and predictions."
      ],
      "metadata": {
        "id": "R35q-i8a9Cui"
      }
    },
    {
      "cell_type": "code",
      "source": [
        "# Exploratory Time Series Visualization\n",
        "\n",
        "# To understand the demand patterns of the top-selling product, let's create a time series lineplot to visualize the demand patterns of the top-selling product over time."
      ],
      "metadata": {
        "id": "HRf8bsPC89el"
      },
      "execution_count": 174,
      "outputs": []
    },
    {
      "cell_type": "code",
      "source": [
        "top_product_data = df[df['Product Card Id']== 365]\n",
        "df_lineplot = top_product_data[['shipping date (DateOrders)', 'Sales']]\n",
        "\n",
        "#Sales 'order date(DateOrders)' as index\n",
        "df_lineplot.set_index('shipping date (DateOrders)', inplace= True)\n",
        "\n",
        "# Resample to monthly frequency and sum the sales\n",
        "monthly_sales = df_lineplot.resample('M').sum()\n",
        "\n",
        "#Plot the time series line plot\n",
        "plt.figure(figsize=(12,6))\n",
        "plt.plot(monthly_sales.index, monthly_sales['Sales'], marker='o', linestyle='-')\n",
        "plt.title('Monthly Sales trend of Top-Selling Product')\n",
        "plt.xlabel('Date')\n",
        "plt.ylabel('Sales')\n",
        "plt.grid(True)\n",
        "\n",
        "#Format the x-axis tick labels to display month and year\n",
        "plt.xticks(monthly_sales.index, [x.strftime('%b %Y') for x in monthly_sales.index], rotation=90)\n",
        "plt.show()"
      ],
      "metadata": {
        "colab": {
          "base_uri": "https://localhost:8080/",
          "height": 655
        },
        "id": "-77B5bQg89ha",
        "outputId": "3373b28e-ee32-4f74-d2e1-0150c8163c86"
      },
      "execution_count": 175,
      "outputs": [
        {
          "output_type": "stream",
          "name": "stderr",
          "text": [
            "/tmp/ipython-input-175-1780979211.py:8: FutureWarning: 'M' is deprecated and will be removed in a future version, please use 'ME' instead.\n",
            "  monthly_sales = df_lineplot.resample('M').sum()\n"
          ]
        },
        {
          "output_type": "display_data",
          "data": {
            "text/plain": [
              "<Figure size 1200x600 with 1 Axes>"
            ],
            "image/png": "[encoded data removed]"
          },
          "metadata": {}
        }
      ]
    },
    {
      "cell_type": "code",
      "source": [
        "# The demand for the top-selling product exhibits a consistent pattern over time, as indicated by the line plot. Surprisingly, sales figures for 2015 and 2016 were quite stable. In July 2017, however, there is a noticeable drop in sales. Furthermore, there were no orders placed for this product in 2018.\n",
        "\n",
        "# We can investigate this intriguing finding in further detail.\n",
        "\n",
        "# Using Prophet to Forecast Demand\n",
        "\n",
        "# Prophet is a method for time series data forecasting that uses an additive model to suit non-linear trends including daily, weekly, and annual seasonality as well as holiday impacts. Facebook's Core Data Science team released Prophet as open source software.\n",
        "# The top-selling Product Card Id (365 'Perfect Fitness Perfect Rip Deck') will be the main focus of the forecasting.\n",
        "#Let's start the procedure..."
      ],
      "metadata": {
        "id": "RRthp5OqAOyb"
      },
      "execution_count": 176,
      "outputs": []
    },
    {
      "cell_type": "code",
      "source": [
        "prophet_data = top_product_data.copy()\n",
        "prophet_data = prophet_data.rename(columns={'shipping date (DateOrders)': 'ds' ,'Sales' : 'y'})\n",
        "\n",
        "holidays_df =pd.read_excel('US-Pr-Holidays.xlsx')\n",
        "holidays_df = holidays_df.rename(columns={'Date':'ds',\n",
        "                                          'Name':'holiday'})\n",
        "holidays_df['ds'] = pd.to_datetime(holidays_df['ds'])\n",
        "holidays_df= holidays_df.drop(columns=['Country','Year'])\n",
        "\n",
        "#Add 'lower_window' and 'upper_window' columns\n",
        "holidays_df['lower_window']=0\n",
        "holidays_df['upper_window']=1\n",
        "\n",
        "#prophet_data.plot(x='ds', y='y', figsize=(18,6))\n"
      ],
      "metadata": {
        "id": "-SmCiJYgBLkc"
      },
      "execution_count": 192,
      "outputs": []
    },
    {
      "cell_type": "code",
      "source": [
        "prophet_data.shape"
      ],
      "metadata": {
        "id": "rlj917ptGPIN",
        "colab": {
          "base_uri": "https://localhost:8080/"
        },
        "outputId": "aa8706fd-4201-49ac-bddf-1eb61773276e"
      },
      "execution_count": 193,
      "outputs": [
        {
          "output_type": "execute_result",
          "data": {
            "text/plain": [
              "(24515, 41)"
            ]
          },
          "metadata": {},
          "execution_count": 193
        }
      ]
    },
    {
      "cell_type": "code",
      "source": [
        "model = Prophet(holidays=holidays_df)\n",
        "model.fit(prophet_data)"
      ],
      "metadata": {
        "id": "LlWJZza-GVbW",
        "colab": {
          "base_uri": "https://localhost:8080/"
        },
        "outputId": "07dfa8bf-26fe-443c-a429-575ad241090c"
      },
      "execution_count": 194,
      "outputs": [
        {
          "output_type": "stream",
          "name": "stderr",
          "text": [
            "DEBUG:cmdstanpy:input tempfile: /tmp/tmpw5mar4ku/1fjegto6.json\n",
            "DEBUG:cmdstanpy:input tempfile: /tmp/tmpw5mar4ku/2wnrw633.json\n",
            "DEBUG:cmdstanpy:idx 0\n",
            "DEBUG:cmdstanpy:running CmdStan, num_threads: None\n",
            "DEBUG:cmdstanpy:CmdStan args: ['/usr/local/lib/python3.11/dist-packages/prophet/stan_model/prophet_model.bin', 'random', 'seed=2441', 'data', 'file=/tmp/tmpw5mar4ku/1fjegto6.json', 'init=/tmp/tmpw5mar4ku/2wnrw633.json', 'output', 'file=/tmp/tmpw5mar4ku/prophet_model4wge1l5h/prophet_model-20250729134259.csv', 'method=optimize', 'algorithm=lbfgs', 'iter=10000']\n",
            "13:42:59 - cmdstanpy - INFO - Chain [1] start processing\n",
            "INFO:cmdstanpy:Chain [1] start processing\n",
            "13:43:07 - cmdstanpy - INFO - Chain [1] done processing\n",
            "INFO:cmdstanpy:Chain [1] done processing\n"
          ]
        },
        {
          "output_type": "execute_result",
          "data": {
            "text/plain": [
              "<prophet.forecaster.Prophet at 0x7d8c4a6d9810>"
            ]
          },
          "metadata": {},
          "execution_count": 194
        }
      ]
    },
    {
      "cell_type": "code",
      "source": [
        "# Dataframe with future dates for forecasting\n",
        "future_dates = model.make_future_dataframe(periods=730, freq='D')\n",
        "forecast = model.predict(future_dates)\n",
        "forecast.shape"
      ],
      "metadata": {
        "id": "uhQ8jp1zGcZT",
        "colab": {
          "base_uri": "https://localhost:8080/"
        },
        "outputId": "cc15c745-548f-4e13-ce81-ac61badd0ff1"
      },
      "execution_count": 197,
      "outputs": [
        {
          "output_type": "execute_result",
          "data": {
            "text/plain": [
              "(20843, 88)"
            ]
          },
          "metadata": {},
          "execution_count": 197
        }
      ]
    },
    {
      "cell_type": "code",
      "source": [
        "forecast.columns"
      ],
      "metadata": {
        "id": "9yuEHrWxGccB",
        "colab": {
          "base_uri": "https://localhost:8080/"
        },
        "outputId": "a8b74842-8829-4967-c831-bc182a7649f7"
      },
      "execution_count": 199,
      "outputs": [
        {
          "output_type": "execute_result",
          "data": {
            "text/plain": [
              "Index(['ds', 'trend', 'yhat_lower', 'yhat_upper', 'trend_lower', 'trend_upper',\n",
              "       'Christmas Day', 'Christmas Day_lower', 'Christmas Day_upper',\n",
              "       'Christmas Day (observed)', 'Christmas Day (observed)_lower',\n",
              "       'Christmas Day (observed)_upper', 'Columbus Day', 'Columbus Day_lower',\n",
              "       'Columbus Day_upper', 'Constitution Day', 'Constitution Day_lower',\n",
              "       'Constitution Day_upper', 'Discovery Day', 'Discovery Day_lower',\n",
              "       'Discovery Day_upper', 'Discovery Day (observed)',\n",
              "       'Discovery Day (observed)_lower', 'Discovery Day (observed)_upper',\n",
              "       'Emancipation Day', 'Emancipation Day_lower', 'Emancipation Day_upper',\n",
              "       'Emancipation Day (observed)', 'Emancipation Day (observed)_lower',\n",
              "       'Emancipation Day (observed)_upper', 'Epiphany', 'Epiphany_lower',\n",
              "       'Epiphany_upper', 'Good Friday', 'Good Friday_lower',\n",
              "       'Good Friday_upper', 'Independence Day', 'Independence Day_lower',\n",
              "       'Independence Day_upper', 'Independence Day (observed)',\n",
              "       'Independence Day (observed)_lower',\n",
              "       'Independence Day (observed)_upper', 'Labor Day', 'Labor Day_lower',\n",
              "       'Labor Day_upper', 'Martin Luther King Jr. Day',\n",
              "       'Martin Luther King Jr. Day_lower', 'Martin Luther King Jr. Day_upper',\n",
              "       'Memorial Day', 'Memorial Day_lower', 'Memorial Day_upper',\n",
              "       'New Year's Day', 'New Year's Day_lower', 'New Year's Day_upper',\n",
              "       'New Year's Day (observed)', 'New Year's Day (observed)_lower',\n",
              "       'New Year's Day (observed)_upper', 'Thanksgiving Day',\n",
              "       'Thanksgiving Day_lower', 'Thanksgiving Day_upper', 'Veterans Day',\n",
              "       'Veterans Day_lower', 'Veterans Day_upper', 'Veterans Day (observed)',\n",
              "       'Veterans Day (observed)_lower', 'Veterans Day (observed)_upper',\n",
              "       'Washington's Birthday', 'Washington's Birthday_lower',\n",
              "       'Washington's Birthday_upper', 'additive_terms', 'additive_terms_lower',\n",
              "       'additive_terms_upper', 'daily', 'daily_lower', 'daily_upper',\n",
              "       'holidays', 'holidays_lower', 'holidays_upper', 'weekly',\n",
              "       'weekly_lower', 'weekly_upper', 'yearly', 'yearly_lower',\n",
              "       'yearly_upper', 'multiplicative_terms', 'multiplicative_terms_lower',\n",
              "       'multiplicative_terms_upper', 'yhat'],\n",
              "      dtype='object')"
            ]
          },
          "metadata": {},
          "execution_count": 199
        }
      ]
    },
    {
      "cell_type": "markdown",
      "source": [
        "The code mentioned earlier models the demand for the best-selling product using the Prophet library. The Sales and Shipping Date Columns are used to train the model. The demand for the best-selling product over the following 730 days is then predicted using the algorithm.\n",
        "\n",
        "In order to correct for the impact of holidays on the demand for the best-selling goods, the code additionally included holidays in the US and PR. This is important since demand patterns can be significantly impacted by holidays.\n",
        "\n",
        "The predicted values for the best-selling product are now included in the forecast variable. We will work on it later, but first, let's assess our prophet model's accuracy."
      ],
      "metadata": {
        "id": "qhsDjne0G33S"
      }
    },
    {
      "cell_type": "code",
      "source": [
        "# Evaluating the Accuracy of the Time Series Forecast\n",
        "# To determine the accuracy of the prophet model, we will use the cross_validation() function provided by Prophet"
      ],
      "metadata": {
        "id": "MUe751jiGcgu"
      },
      "execution_count": null,
      "outputs": []
    },
    {
      "cell_type": "code",
      "source": [
        "from prophet.diagnostics import cross_validation, performance_metrics"
      ],
      "metadata": {
        "id": "1Ap2yN8KGciy"
      },
      "execution_count": 200,
      "outputs": []
    },
    {
      "cell_type": "code",
      "source": [
        "cv = cross_validation(model=model, initial='365 days', period='365 days', horizon='365 days')"
      ],
      "metadata": {
        "id": "rCTqGTC5Gck4",
        "colab": {
          "base_uri": "https://localhost:8080/",
          "height": 265,
          "referenced_widgets": [
            "5572d00eb7e1446b924abe5d820ea39a",
            "90985573ea22451da90af889c11d18d1",
            "64647ae78c04403fa541f1fc1d83ab3f",
            "d5ace42d72d949d088f68d046502646a",
            "a948471af19349969880cd9aa1ea1c5b",
            "bd2696142aae47cf972ecce15ac991b6",
            "ac8591888d2c461ea49615326a55b38a",
            "b98cc63a244d4d40881fbe158b0e6507",
            "e9e8dbb83ee04e78aade4f8b7c6db6e0",
            "776235d43e8a44f08ef71ecdf74aaa1a",
            "6ab5bbaa86844ed4ba8aaff2adc797e6"
          ]
        },
        "outputId": "49fd2870-f34d-4034-e0ef-7486c879e916"
      },
      "execution_count": 203,
      "outputs": [
        {
          "output_type": "stream",
          "name": "stderr",
          "text": [
            "INFO:prophet:Making 1 forecasts with cutoffs between 2016-10-08 07:52:00 and 2016-10-08 07:52:00\n",
            "WARNING:prophet:Seasonality has period of 365.25 days which is larger than initial window. Consider increasing initial.\n"
          ]
        },
        {
          "output_type": "display_data",
          "data": {
            "text/plain": [
              "  0%|          | 0/1 [00:00<?, ?it/s]"
            ],
            "application/vnd.jupyter.widget-view+json": {
              "version_major": 2,
              "version_minor": 0,
              "model_id": "5572d00eb7e1446b924abe5d820ea39a"
            }
          },
          "metadata": {}
        },
        {
          "output_type": "stream",
          "name": "stderr",
          "text": [
            "DEBUG:cmdstanpy:input tempfile: /tmp/tmpw5mar4ku/wz61bneq.json\n",
            "DEBUG:cmdstanpy:input tempfile: /tmp/tmpw5mar4ku/r4fsp15t.json\n",
            "DEBUG:cmdstanpy:idx 0\n",
            "DEBUG:cmdstanpy:running CmdStan, num_threads: None\n",
            "DEBUG:cmdstanpy:CmdStan args: ['/usr/local/lib/python3.11/dist-packages/prophet/stan_model/prophet_model.bin', 'random', 'seed=46977', 'data', 'file=/tmp/tmpw5mar4ku/wz61bneq.json', 'init=/tmp/tmpw5mar4ku/r4fsp15t.json', 'output', 'file=/tmp/tmpw5mar4ku/prophet_modeljo4ryojb/prophet_model-20250729134524.csv', 'method=optimize', 'algorithm=lbfgs', 'iter=10000']\n",
            "13:45:24 - cmdstanpy - INFO - Chain [1] start processing\n",
            "INFO:cmdstanpy:Chain [1] start processing\n",
            "13:45:27 - cmdstanpy - INFO - Chain [1] done processing\n",
            "INFO:cmdstanpy:Chain [1] done processing\n"
          ]
        }
      ]
    },
    {
      "cell_type": "code",
      "source": [
        "\n",
        "# The cross_validation() function performs cross_validation on the model. A portion of the data is used to train the model, while the remaining data is used to assess the model. This is a useful method for assessing the model's correctness.\n",
        "\n",
        "#The initial paramter specifies the size of the training set i.e., the model will be trained on the data from the first 365 days.\n",
        "\n",
        "#The period parameter specifies the frequency of the forecast i.e., a new evaluation window will start every 365 days.\n",
        "\n",
        "# The horizon parameter sets the forecast horizon for each evaluation period. Here, it's specified as 365 days, meaning the model will make forecast for the next 365 days in each evaluation period.\n",
        "\n",
        "#let's visualize the performance of the model. The performance_metrics function in the prophet library calculated the below metrics for the cross-valiadated forecasts:\n",
        "\n",
        "1. MSE: Mean Squared Error\n",
        "2. RMSE: Root Mean Square Error\n",
        "3. MAE: Mean Average Error\n",
        "4. MAPE: Mean Absolute Percentage Error\n",
        "5.MDAPE: Median Absolute Percentage Error\n",
        "6. SMAPE: Symmentric mean absolute percentage error"
      ],
      "metadata": {
        "id": "xiZ5492gInK0"
      },
      "execution_count": null,
      "outputs": []
    },
    {
      "cell_type": "code",
      "source": [
        "pm = performance_metrics(cv, rolling_window=0)"
      ],
      "metadata": {
        "id": "JGc5NYkMInNZ"
      },
      "execution_count": 204,
      "outputs": []
    },
    {
      "cell_type": "code",
      "source": [
        "from prophet.plot import plot_cross_validation_metric\n",
        "\n",
        "fig = plot_cross_validation_metric(cv, metric='mape');\n",
        "fig.get_axes()[0].get_lines()[0].set_markerfacecolor('#ADD8E7')\n",
        "fig.get_axes()[0].get_lines()[0].set_markeredgecolor('#ADD8E7')"
      ],
      "metadata": {
        "id": "303M7H-6InPx",
        "colab": {
          "base_uri": "https://localhost:8080/",
          "height": 633
        },
        "outputId": "0c424629-f87a-415d-805f-400f78d6efa3"
      },
      "execution_count": 205,
      "outputs": [
        {
          "output_type": "stream",
          "name": "stderr",
          "text": [
            "/usr/local/lib/python3.11/dist-packages/prophet/plot.py:547: FutureWarning: Series.view is deprecated and will be removed in a future version. Use ``astype`` as an alternative to change the dtype.\n",
            "  x_plt = df_none['horizon'].astype('timedelta64[ns]').view(np.int64) / float(dt_conversions[i])\n",
            "/usr/local/lib/python3.11/dist-packages/prophet/plot.py:548: FutureWarning: Series.view is deprecated and will be removed in a future version. Use ``astype`` as an alternative to change the dtype.\n",
            "  x_plt_h = df_h['horizon'].astype('timedelta64[ns]').view(np.int64) / float(dt_conversions[i])\n"
          ]
        },
        {
          "output_type": "display_data",
          "data": {
            "text/plain": [
              "<Figure size 1000x600 with 1 Axes>"
            ],
            "image/png": "[encoded data removed]"
          },
          "metadata": {}
        }
      ]
    },
    {
      "cell_type": "code",
      "source": [
        "# Here, we will consider only MAPE, because, it provides a clear understanding of the accuracy of the prediction in percentage terms, making it interpretable and comparable across different forecasting modes. Also, taking the mean of these MAPE values will provide an aggregate measure of model performance across all iterations, giving a single repersentative value.\n",
        "\n",
        "# The forecast has relatively constant MAPE(Mean Absolute Percentage Error) values for horizons within the 365-day range.\n",
        "\n",
        "# Exposing the model to more historical data may help lower the MAPE significantly. Moreover, let's explore if there are any opportunities to improve the accuracy by finding the best combinations of hyperparameters for the prophet model. I will use a hyperparameter tuning technique to try to optimize the model's performance.\n",
        "\n",
        "# Let's do this..."
      ],
      "metadata": {
        "id": "DgSmK5aiInSa"
      },
      "execution_count": 206,
      "outputs": []
    },
    {
      "cell_type": "code",
      "source": [
        "# Hyper Parameter tuning for improve model accuracy"
      ],
      "metadata": {
        "id": "uyT6wGc6ORUe"
      },
      "execution_count": 207,
      "outputs": []
    },
    {
      "cell_type": "code",
      "source": [
        "from sklearn.model_selection import ParameterGrid"
      ],
      "metadata": {
        "id": "LubC7nduORzt"
      },
      "execution_count": 208,
      "outputs": []
    },
    {
      "cell_type": "code",
      "source": [
        "prophet_data = df.copy()\n",
        "prophet_data = prophet_data.rename(columns={'order date (DateOrders)': 'ds',\n",
        "                                            'Sales': 'y'})"
      ],
      "metadata": {
        "id": "rzjCPiqDOR2j"
      },
      "execution_count": 209,
      "outputs": []
    },
    {
      "cell_type": "code",
      "source": [
        "# Specify hyperparameter values to try\n",
        "\n",
        "param_grid = {\n",
        "    'seasonality_mode' : [\"additive\", \"multiplicative\"],\n",
        "    'seasonality_prior_scale':[0.1,0.5,1,5,10],\n",
        "    'holidays_prior_scale':[1,2,5,10,15],\n",
        "    'changepoint_prior_scale':[0.005,0.001,0.01,0.05,0.1]\n",
        "\n",
        "}\n",
        "\n",
        "#Generate all combinations of hyperparameters using ParameterGrid\n",
        "param_combinations = ParameterGrid(param_grid)"
      ],
      "metadata": {
        "id": "SEocRkDwOR5K"
      },
      "execution_count": 210,
      "outputs": []
    },
    {
      "cell_type": "markdown",
      "source": [
        "The code above generates a grid of hyperparameters using the sklearn library's ParameterGrid method. The prophet model's hyperparameter combinations vary over the grid.\n",
        "\n",
        "In contrast, the code that follows assesses the model's correctness for every set of hyperparameters using the cross_validation() method. The hyperparameter combination that yields the lowest MAPE is then chosen by the code.\n",
        "\n",
        "We will only look at MAPE in this case since it makes it easy to evaluate and compare the accuracy of the predictions across various forecasting models by expressing them as a percentage. Additionally, a single representative value representing the overall performance of the model throughout all iterations can be obtained by taking the mean of these MAPE values.\n",
        "\n",
        "NOTE: It will take a long time to finish the code. It will experiment with 250 different hyperparameter combinations, and the model with the lowest MAPE value will be the best one.\n",
        "\n"
      ],
      "metadata": {
        "id": "bfFy3ms_TRhe"
      }
    },
    {
      "cell_type": "code",
      "source": [
        "# To compute the Cartesian product of input iterables.\n",
        "from itertools import product\n"
      ],
      "metadata": {
        "id": "te-3qjwTTqm7"
      },
      "execution_count": 211,
      "outputs": []
    },
    {
      "cell_type": "code",
      "source": [
        "results = {}\n",
        "print(f\"Trying all {len(param_combinations)} hyperparameter combinations\")\n",
        "\n",
        "# Generate all combinations of hyperparameters (This creates a list of tuples, where each tuple represents a unique combination of hyperparameters.)\n",
        "param_combinations = list(product(*param_grid.values()))\n",
        "\n",
        "for i in param_combinations:\n",
        "    #Prophet instance with current parameter combination\n",
        "    p = Prophet(**dict(zip(param_grid.keys(), i)))\n",
        "\n",
        "    #Fit the model\n",
        "    p.fit(prophet_data)\n",
        "\n",
        "    #Cross Validation\n",
        "    cv = cross_validation(model=p, initial='365 days', period='365 days', horizon='365 days')\n",
        "\n",
        "    #Performance metrics\n",
        "    per_metrics = performance_metrics(cv, rolling_window=0)\n",
        "\n",
        "    #Store metrics in the results dictionary\n",
        "    results[i] = per_metrics['mape'].mean()"
      ],
      "metadata": {
        "id": "YgYy1ksHTse9",
        "colab": {
          "base_uri": "https://localhost:8080/"
        },
        "outputId": "972c3b64-53c1-48b5-be95-57a1070a4ff2"
      },
      "execution_count": null,
      "outputs": [
        {
          "output_type": "stream",
          "name": "stdout",
          "text": [
            "Trying all 250 hyperparameter combinations\n"
          ]
        },
        {
          "output_type": "stream",
          "name": "stderr",
          "text": [
            "DEBUG:cmdstanpy:input tempfile: /tmp/tmpw5mar4ku/q22d0qtq.json\n",
            "DEBUG:cmdstanpy:input tempfile: /tmp/tmpw5mar4ku/ae1k0g_e.json\n",
            "DEBUG:cmdstanpy:idx 0\n",
            "DEBUG:cmdstanpy:running CmdStan, num_threads: None\n",
            "DEBUG:cmdstanpy:CmdStan args: ['/usr/local/lib/python3.11/dist-packages/prophet/stan_model/prophet_model.bin', 'random', 'seed=65558', 'data', 'file=/tmp/tmpw5mar4ku/q22d0qtq.json', 'init=/tmp/tmpw5mar4ku/ae1k0g_e.json', 'output', 'file=/tmp/tmpw5mar4ku/prophet_modelbpfduiya/prophet_model-20250729134614.csv', 'method=optimize', 'algorithm=lbfgs', 'iter=10000']\n",
            "13:46:14 - cmdstanpy - INFO - Chain [1] start processing\n",
            "INFO:cmdstanpy:Chain [1] start processing\n"
          ]
        }
      ]
    },
    {
      "cell_type": "code",
      "source": [
        "results"
      ],
      "metadata": {
        "id": "9kevDGudTsiW"
      },
      "execution_count": null,
      "outputs": []
    },
    {
      "cell_type": "code",
      "source": [
        "#Hyperparameters with the lowest MAPE\n",
        "best_hyperparams = min(results, key=results.get)\n",
        "print(f\"Best Hyperparameters: {dict(zip(param_grid.keys(), best_hyperparams))}\")\n"
      ],
      "metadata": {
        "id": "-KQOHyzYTslu"
      },
      "execution_count": null,
      "outputs": []
    },
    {
      "cell_type": "markdown",
      "source": [
        "Now let’s rebuild the model with the best hyperparameters and evaluate the model’s performance."
      ],
      "metadata": {
        "id": "p5mIIQhcUEnd"
      }
    },
    {
      "cell_type": "code",
      "source": [
        "tuned_model = Prophet(holidays=holidays_df,\n",
        "                      seasonality_mode= 'additive',\n",
        "                      seasonality_prior_scale=5,\n",
        "                      holidays_prior_scale=1,\n",
        "                      changepoint_prior_scale=0.95)\n",
        "\n",
        "#Fit the model\n",
        "tuned_model.fit(prophet_data)\n",
        "\n",
        "#DataFrame with future dates for forecasting\n",
        "future = tuned_model.make_future_dataframe(periods=730, freq='D')\n",
        "\n",
        "# Generate forecasts\n",
        "new_forecast = tuned_model.predict(future)"
      ],
      "metadata": {
        "id": "b_LOXSNMUAIP"
      },
      "execution_count": null,
      "outputs": []
    },
    {
      "cell_type": "code",
      "source": [
        "#Preform Cross Validation\n",
        "tuned_cv = cross_validation(model=tuned_model, initial='365 days', period='365 days', horizon='365 days')\n"
      ],
      "metadata": {
        "id": "tsx2mVVEUALm"
      },
      "execution_count": null,
      "outputs": []
    },
    {
      "cell_type": "code",
      "source": [
        "fig, axs = plt.subplots(nrows=1, ncols=2, figsize=(12, 5))\n",
        "\n",
        "# Plot for the first cross-validation metric (before hyperparameter tuning)\n",
        "fig1 = plot_cross_validation_metric(cv, metric='mape', ax=axs[0])\n",
        "fig1.get_axes()[0].get_lines()[0].set_markerfacecolor('#ADD8E7')  # Change color of the dots\n",
        "fig1.get_axes()[0].get_lines()[0].set_markeredgecolor('#ADD8E7')  # Change color of the dot edges\n",
        "# add title\n",
        "axs[0].set_title('Initial Cross-Validation score MAPE')\n",
        "\n",
        "# Plot for the second cross-validation metric (after hyperparameter tuning)\n",
        "fig2 = plot_cross_validation_metric(tuned_cv, metric='mape', ax=axs[1])\n",
        "fig2.get_axes()[1].get_lines()[1].set_markerfacecolor('#ADD8E7')  # Change color of the dots\n",
        "fig2.get_axes()[1].get_lines()[1].set_markeredgecolor('#ADD8E7')  # Change color of the dot edges\n",
        "# add title\n",
        "axs[1].set_title('Tuned Cross-Validation score MAPE')\n",
        "\n",
        "plt.tight_layout()\n",
        "plt.show()\n"
      ],
      "metadata": {
        "id": "AUcsBNleUAQT"
      },
      "execution_count": null,
      "outputs": []
    },
    {
      "cell_type": "markdown",
      "source": [
        "We can see that the MAPE values does not have any changes than the initial model. I also tried different combinations manually to see if the result changes. But it remained the same. From this we can say that the model is not sensitive to the hyperparameters. The model can still be used for forecasting demand for the top-selling product.\n",
        "\n",
        "Forecast results\n",
        "The new_forecast variable contains the forecasted values of our Sales time series. Based on this forecast we will calculate the optimal inventory policy for this specific product.\n",
        "\n",
        "The new_forecast variable is a dataframe that contains the following columns:"
      ],
      "metadata": {
        "id": "o7tHgHQ4URx7"
      }
    },
    {
      "cell_type": "code",
      "source": [
        "\n",
        "new_forecast.columns\n"
      ],
      "metadata": {
        "id": "5bJ-KSUEUOGZ"
      },
      "execution_count": null,
      "outputs": []
    },
    {
      "cell_type": "code",
      "source": [
        "# Visualizing Forecasted Sales\n",
        "tuned_model.plot_components(new_forecast);\n"
      ],
      "metadata": {
        "id": "RSJsGGu5UOI0"
      },
      "execution_count": null,
      "outputs": []
    },
    {
      "cell_type": "code",
      "source": [
        "plt.figure(figsize=(18, 6))\n",
        "# Plot the forecast before 2018 in blue\n",
        "plt.plot(new_forecast[new_forecast['ds'] < '2018-01-01']['ds'], new_forecast[new_forecast['ds'] < '2018-01-01']['yhat'], linestyle='-', color='blue')\n",
        "# Plot the forecast after 2018 in red\n",
        "plt.plot(new_forecast[new_forecast['ds'] >= '2018-01-01']['ds'], new_forecast[new_forecast['ds'] >= '2018-01-01']['yhat'], linestyle='-', color='green')\n",
        "\n",
        "# plt.xlabel('Date')\n",
        "# plt.ylabel('Sales')\n",
        "plt.title('Daily Sales Forecast for Next 24 Months')\n",
        "plt.grid(True)\n",
        "# plt.legend()\n",
        "plt.show()"
      ],
      "metadata": {
        "id": "usEZuXNsUOLK"
      },
      "execution_count": null,
      "outputs": []
    },
    {
      "cell_type": "markdown",
      "source": [
        "Lets answer the below question:\n",
        "\n",
        "What is the demand forecast for the top selling product in the next 24 months?\n",
        "The sales trend between 2015 and 2017 marks a cycle where sales for the product remained fluctuating all the time with a sharp increase between September and December.\n",
        "\n",
        "The forecasted sales for the next 24 months, on the other hand, indicate a stable increasing demand pattern.\n",
        "\n",
        "The minimun variance observed in the product price may account for the relatively stable sales pattern forecasted for 2018 and 2019. It might also be worth investigating the factors that may account for the fluctuations between 2015 and 2017\n",
        "\n",
        "We can also observe the impact of the US and Puerto Rican holidays on the forecasted sales.\n",
        "\n",
        "What is the optimal inventory level for the top selling product?\n",
        "Lets find out !!\n",
        "~ Finding Optimal Inventory Policy Based on Forecasted Demand ~\n",
        "Now that we have forecasted the demand for the top-selling product, we can use the forecasted demand to calculate the optimal inventory policy for the product.\n",
        "\n",
        "Finding the optimal inventory policy will help us determine the Reorder Point, Safety stock, and Economic Order Quantity(EOQ) for the product. These markers will help us ensure that we have the right amount of inventory on hand to meet customer demand while minimizing inventory costs.\n",
        "\n",
        "\n",
        "Reorder Point (ROP) -\n",
        "A reorder point (ROP) is a specific level at which your stock needs to be replenished. In other words, it tells you when to place an order so you won’t run out of stock. Setting a reorder point helps you optimize your inventory, replenish your stock of individual items at the right time, and meet your market demand without going out of stock.\n",
        "\n",
        "To calculate ROP, we need:\n",
        "\n",
        "Average sales per day: How much of this item are you selling every day?\n",
        "\n",
        "Lead time: The Lead Time with regards to the ROP is the time it takes for a product to be delivered by upstream supply chain manufacturers to the store's warehouse i.e. It is the time taken (in days) for your vendor to fulfill your order. The current dataset only provides the Days for shipment (scheduled) and the Days for shipping (real) which only helps us determine downstream lead times. The downstream lead time is the time it takes for a product to be delivered to the customer after it has been ordered. This is not the lead time we need to calculate the reorder point. So for the purposes of our analysis we will assume an average upstream Lead time of 6 days.\n",
        "\n",
        "Safety stock: The amount of extra stock,, that you would keep in your inventory to help avoid stockouts due to uncertainties in demand and lead time.\n",
        "\n",
        "The formula for ROP is:\n",
        "\n",
        "       Reorder point = lead time demand + safety stock\n",
        "where the Lead Time Demand is calculated as:\n",
        "\n",
        "Lead Time Demand = average sales per day * lead time\n",
        "and the safety stock is calculated as:\n",
        "\n",
        "       Safety stock = (maximum daily sales * maximum lead time) – lead time demand\n",
        "As explained above, lets also assume that there have been delays from the manufacturer in the past and the maximum lead time is 10 days i.e 4 days later than the average order fulfillment timeline.\n",
        "\n",
        "Note: All this is been done for the top selling product (by order frequency) i.e Perfect Fitness Perfect Rip Deck Lets calculate !!"
      ],
      "metadata": {
        "id": "Bz9uKvQMUb7H"
      }
    },
    {
      "cell_type": "code",
      "source": [
        "# CALCULATING LEAD TIME DEMAND\n",
        "\n",
        "# average forecasted sales\n",
        "avg_daily_forecasted_sales = new_forecast['yhat'].mean().round(3)\n",
        "print(f\"Average Daily Forecasted Sales: {avg_daily_forecasted_sales}\")\n",
        "\n",
        "# assumed average lead time (in days)\n",
        "avg_lead_time = 6\n",
        "print(f\"Average Lead Time: {avg_lead_time}\")\n",
        "\n",
        "# lead time demand\n",
        "lead_time_demand = avg_daily_forecasted_sales * avg_lead_time\n",
        "print(f\"Lead Time Demand: {lead_time_demand}\")"
      ],
      "metadata": {
        "id": "DjJlMMunUliK"
      },
      "execution_count": null,
      "outputs": []
    },
    {
      "cell_type": "code",
      "source": [
        "# CALCULATING SAFETY STOCK\n",
        "\n",
        "# maximum daily sales\n",
        "max_daily_forecasted_sales = new_forecast['yhat'].max().round(3)\n",
        "print(f\"maximum Daily Forecasted Sales: {max_daily_forecasted_sales}\")\n",
        "\n",
        "# assumed max lead time (in days)\n",
        "max_lead_time = 10\n",
        "print(f\"Average Lead Time: {max_lead_time}\")\n",
        "\n",
        "safety_stock = (max_daily_forecasted_sales * max_lead_time) - lead_time_demand\n",
        "print(f\"Safety Stock: {safety_stock.round(3)}\")"
      ],
      "metadata": {
        "id": "MwYuQAfVUlkK"
      },
      "execution_count": null,
      "outputs": []
    },
    {
      "cell_type": "code",
      "source": [
        "# CALCULATING ROP\n",
        "rop = lead_time_demand + safety_stock\n",
        "print(f\"The Optimal Reorder Point for the Top-selling Product is: {rop}\")"
      ],
      "metadata": {
        "id": "xVrkCBniUltr"
      },
      "execution_count": null,
      "outputs": []
    },
    {
      "cell_type": "markdown",
      "source": [
        "The observed outcome suggests that the optimal reorder point for our highest-selling product (Perfect Fitness Perfect Rip Deck) is 2149 units. This suggests that when we have only 2149 units left in stock, we should initiate restocking procedures to make sure we always have enough for customers. Maintaining stock above this quantity ensures sufficient supply to meet customer demand while also optimizing inventory management costs."
      ],
      "metadata": {
        "id": "JRPgw3xRUwPF"
      }
    },
    {
      "cell_type": "markdown",
      "source": [
        "Economic Order Quantity (EOQ) -\n",
        "Economic order quantity (EOQ) model is another method to determine the optimal order quantity / inventory reorder point. It is the ideal quantity of units a company should purchase to meet demand while minimizing inventory costs such as holding costs, shortage costs, and order costs. The economic order quantity formula assumes that demand, ordering, and holding costs all remain constant. Assuming demand for the products as constant sometimes results as one of the limitations of this method. This method helps make efficient inventory management decisions.\n",
        "\n",
        "Unlike the Reorder Point which is concerned with determining the level of inventory at which a new order should be placed to avoid stockouts, EOQ takes into account the costs of ordering (e.g., setup costs) and the costs of holding inventory (e.g., storage costs, opportunity costs).\n",
        "\n",
        "The Economic Order Quantity (EOQ) formula is given by:\n",
        "\n",
        "\n",
        "\n",
        "where:\n",
        "\n",
        "Q: EOQ units\n",
        "D: Demand in units,\n",
        "S: Ordering cost per order,\n",
        "H: Holding cost per unit per year.\n",
        "Economic order quantity (EOQ) will be higher if the ordering costs or product demand increases. On the other hand, it will be lower if the company’s holding costs increase.\n",
        "\n",
        "Ordering Cost:\n",
        "\n",
        "NOTE: We can figure out the demand rate ( D ) based on the existing data. However, the ordering cost ( S ) and holding cost ( H ) are not provided in the dataset. For our analysis, We will assume that the ordering and holding cost is 10% and 25% of the product price respectively."
      ],
      "metadata": {
        "id": "Eh5hHo88Uzeq"
      }
    },
    {
      "cell_type": "code",
      "source": [
        "# product price\n",
        "product_price = top_product_data['Product Price'].iloc[0]\n",
        "print(f\"The Product Price is: {product_price}\")\n",
        "\n",
        "# calculate holding cost\n",
        "H = 0.10 * product_price\n",
        "print(f\"The Holding Cost is: {H}\")\n",
        "\n",
        "# calculate ordering cost\n",
        "S = 0.25 * product_price\n",
        "print(f\"The Ordering Cost is: {S}\")\n",
        "\n",
        "# calculate forecasted demand rate\n",
        "D = new_forecast['yhat'].mean()\n",
        "print(f\"The Demand Rate is: {D}\")"
      ],
      "metadata": {
        "id": "fEzguyTNU5we"
      },
      "execution_count": null,
      "outputs": []
    },
    {
      "cell_type": "code",
      "source": [
        "EOQ = math.sqrt((2 * D * S) / H)\n",
        "print(f\"The Economic Order Quantity is: {EOQ}\")"
      ],
      "metadata": {
        "id": "4hzlyFGwUONi"
      },
      "execution_count": null,
      "outputs": []
    },
    {
      "cell_type": "markdown",
      "source": [
        "Hence, according to the EOQ model, the optimal order quantity for the top-selling product is 30 units. This means that we should order 30 units of the product at a time to minimize the total inventory costs. This will help us ensure that we have the right amount of inventory on hand to meet customer demand while minimizing inventory costs.\n",
        "\n",
        "So here's the answer the second question i.e.\n",
        "\n",
        "What is the optimal inventory level for the top selling product?\n",
        "The optimal inventory policy for the top-selling product is as follows:\n",
        "\n",
        "Reorder point: 2149 Units\n",
        "Safety stock: 1066 Units\n",
        "Economic Order Quantity: 30 Units\n",
        "Thus, when the stock level of the top-selling product hits 2149 units, it's time to order 30 more units from the supplier to keep up with demand and maintain sufficient stock levels. Also, a safety stock of 1066 units should be kept in inventory to avoid stockouts.\n",
        "\n",
        "Using these strategies for inventory management will help the company keep enough of the best-selling product in stock to meet customer needs while keeping costs low.\n",
        "\n",
        "SUMMARIZING THE KEY TAKEAWAYS:\n",
        "The project focused on forecasting the demand and managing inventory for the best selling product according to the order frequency.\n",
        "\n",
        "We explored how to build a demand forecasting model with Python and evaluate its performance.\n",
        "We discovered trends, seasonalities and holiday effects on the top-selling product based on the dataset provided.\n",
        "We used the model for inventory optimization, covering concepts like reorder points, safety stock, and economic order quantity (EOQ).\n",
        "We found the optimal inventory policy for the top-selling product."
      ],
      "metadata": {
        "id": "657yQpvyVAMc"
      }
    }
  ]
}