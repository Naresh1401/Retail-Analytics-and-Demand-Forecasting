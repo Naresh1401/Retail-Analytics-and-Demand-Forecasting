{
  "nbformat": 4,
  "nbformat_minor": 0,
  "metadata": {
    "colab": {
      "provenance": []
    },
    "kernelspec": {
      "name": "python3",
      "display_name": "Python 3"
    },
    "language_info": {
      "name": "python"
    }
  },
  "cells": [
    {
      "cell_type": "code",
      "execution_count": 1,
      "metadata": {
        "id": "CJB8HZXWDtBO"
      },
      "outputs": [],
      "source": [
        "import pandas as pd\n",
        "import holidays"
      ]
    },
    {
      "cell_type": "code",
      "source": [
        "# Define the years and the countries/states\n",
        "years = range(2015, 2021)\n",
        "countries =['US', 'PR']"
      ],
      "metadata": {
        "id": "eZ2xb6UQD6f2"
      },
      "execution_count": 2,
      "outputs": []
    },
    {
      "cell_type": "code",
      "source": [
        "# Intialize a dictionary to store holiday data\n",
        "holiday_data= {}"
      ],
      "metadata": {
        "id": "roVlx899EEUf"
      },
      "execution_count": 3,
      "outputs": []
    },
    {
      "cell_type": "code",
      "source": [
        "# Iterate through years and countries to collect holiday data\n",
        "\n",
        "for year in years:\n",
        "  for country in countries:\n",
        "    # Create a holiday instance of the specified country and year\n",
        "    country_holidays = holidays.CountryHoliday(country, years=year)\n",
        "    for date, name in sorted(country_holidays.items()):\n",
        "      if date in holiday_data:\n",
        "        holiday_data[date]['Country'].append(country)\n",
        "      else:\n",
        "          holiday_data[date] = {'Date': date, 'Name': name, 'Country':[country], 'Year': year}\n"
      ],
      "metadata": {
        "id": "8yMLLhGtEJ_P"
      },
      "execution_count": 8,
      "outputs": []
    },
    {
      "cell_type": "code",
      "source": [
        "holiday_data_list = list(holiday_data.values())\n",
        "df =pd.DataFrame(holiday_data_list)\n",
        "df['Country'] = df['Country'].apply(lambda x:','.join(x))"
      ],
      "metadata": {
        "id": "RzXrwVmuE6XZ"
      },
      "execution_count": 9,
      "outputs": []
    },
    {
      "cell_type": "code",
      "source": [
        "df.to_excel('US-Pr-Holidays.xlsx', index=False)"
      ],
      "metadata": {
        "id": "AYWIWJtMFb7p"
      },
      "execution_count": 10,
      "outputs": []
    }
  ]
}